{
 "cells": [
  {
   "cell_type": "code",
   "execution_count": null,
   "id": "96070e0a",
   "metadata": {},
   "outputs": [],
   "source": [
    "from matplotlib import pyplot as plt\n",
    "\n",
    "import os \n",
    "import glob\n",
    "import cv2\n",
    "import torch\n",
    "from torch.utils.data import Dataset, DataLoader\n",
    "\n",
    "import numpy as np\n",
    "from tiler import Tiler"
   ]
  },
  {
   "cell_type": "code",
   "execution_count": null,
   "id": "9a664757",
   "metadata": {},
   "outputs": [],
   "source": [
    "DEVICE = torch.device('cuda' if torch.cuda.is_available() else 'mps' if torch.backends.mps.is_available() else 'cpu')\n",
    "\n",
    "FRAGMENTS_PATH = '../data/raw/train'\n",
    "TRAIN_FRAGMENTS = ['1', '2']\n",
    "VAL_FRAGMENTS = ['3']\n",
    "\n",
    "Z_START = 27\n",
    "Z_DIM = 10\n",
    "TILE_SIZE = 256"
   ]
  },
  {
   "cell_type": "code",
   "execution_count": null,
   "id": "646593a9",
   "metadata": {},
   "outputs": [],
   "source": [
    "def tile_fragment(fragment):\n",
    "    fragment_path = os.path.join(FRAGMENTS_PATH, fragment)\n",
    "    slices_path = sorted(glob.glob(os.path.join(fragment_path, 'surface_volume/*.tif')))[Z_START:Z_START+Z_DIM]\n",
    "    slices = [cv2.imread(slice_path, cv2.IMREAD_GRAYSCALE) / 255.0 for slice_path in slices_path]\n",
    "    slices = np.stack(slices, axis=0)\n",
    "\n",
    "    slices_tiler = Tiler(data_shape=slices.shape,\n",
    "                         tile_shape=(Z_DIM, TILE_SIZE, TILE_SIZE),\n",
    "                         overlap=0.5, \n",
    "                         channel_dimension=0)\n",
    "\n",
    "    new_shape, padding = slices_tiler.calculate_padding()\n",
    "    slices_tiler.recalculate(data_shape=new_shape)\n",
    "    slices_pad = np.pad(slices, padding)\n",
    "\n",
    "    ink_path = os.path.join(FRAGMENTS_PATH, fragment, 'inklabels.png')\n",
    "    ink = cv2.imread(ink_path, cv2.IMREAD_GRAYSCALE) / 255.0\n",
    "\n",
    "    ink_tiler = Tiler(data_shape=ink.shape,\n",
    "                            tile_shape=(TILE_SIZE, TILE_SIZE),\n",
    "                            overlap=0.5)\n",
    "\n",
    "    new_shape, padding = ink_tiler.calculate_padding()\n",
    "    ink_tiler.recalculate(data_shape=new_shape)\n",
    "    ink_pad = np.pad(ink, padding)\n",
    "\n",
    "    slices_list = []\n",
    "    ink_list = []\n",
    "    tiles_zip = zip(slices_tiler(slices_pad), ink_tiler(ink_pad))\n",
    "\n",
    "    for slices_tile, ink_tile in tiles_zip: \n",
    "        if ink_tile[1].max() > 0:\n",
    "            # for the multi-context dataset we have to create a bigger padded\n",
    "            # image to retrieve bigger image from the center of the current tile\n",
    "            tile_bbox = slices_tiler.get_tile_bbox(slices_tile[0])\n",
    "            slices_list.append(torch.from_numpy(slices_tile[1].astype('float16')))\n",
    "            ink_list.append(torch.from_numpy(ink_tile[1].astype('float16')))\n",
    "            \n",
    "    slices = torch.stack(slices_list, dim=0).to(DEVICE)\n",
    "    ink = torch.stack(ink_list, dim=0).to(DEVICE)\n",
    "            \n",
    "    return slices, ink"
   ]
  },
  {
   "cell_type": "code",
   "execution_count": null,
   "id": "b199933b",
   "metadata": {},
   "outputs": [],
   "source": [
    "class CustomDataset(Dataset):\n",
    "    def __init__(self, fragments):\n",
    "        self.slices = torch.BFloat16Tensor().to(DEVICE)\n",
    "        self.ink = torch.BFloat16Tensor().to(DEVICE)\n",
    "        \n",
    "        for fragment in fragments:\n",
    "            slices, ink = tile_fragment(fragment)\n",
    "            self.slices = torch.cat((self.slices, slices), dim=0)\n",
    "            self.ink = torch.cat((self.ink, ink), dim=0)\n",
    "        \n",
    "    def __len__(self):\n",
    "        return len(self.slices)\n",
    "    \n",
    "    def __getitem__(self, idx):\n",
    "        slices = torch.unsqueeze(self.slices[idx], dim=0)\n",
    "        ink = torch.unsqueeze(torch.unsqueeze(self.ink[idx], dim=0), dim=0)\n",
    "        \n",
    "        return slices, ink"
   ]
  },
  {
   "cell_type": "code",
   "execution_count": null,
   "id": "53709e39",
   "metadata": {},
   "outputs": [],
   "source": [
    "train_dataset = CustomDataset(TRAIN_FRAGMENTS)"
   ]
  },
  {
   "cell_type": "code",
   "execution_count": null,
   "id": "eb6d3830",
   "metadata": {},
   "outputs": [],
   "source": [
    "slices, ink = train_dataset[876]"
   ]
  },
  {
   "cell_type": "code",
   "execution_count": null,
   "id": "4971e90f",
   "metadata": {},
   "outputs": [],
   "source": [
    "slices.shape, ink.shape"
   ]
  },
  {
   "cell_type": "code",
   "execution_count": null,
   "id": "0c777541",
   "metadata": {},
   "outputs": [],
   "source": [
    "fig, (ax1, ax2) = plt.subplots(1, 2)\n",
    "ax1.imshow(slices[0, 0, :, :].cpu())\n",
    "ax2.imshow(ink[0, 0, :, :].cpu())"
   ]
  }
 ],
 "metadata": {
  "kernelspec": {
   "display_name": "vesuvius-challenge-ink-detection-env",
   "language": "python",
   "name": "vesuvius-challenge-ink-detection-env"
  },
  "language_info": {
   "codemirror_mode": {
    "name": "ipython",
    "version": 3
   },
   "file_extension": ".py",
   "mimetype": "text/x-python",
   "name": "python",
   "nbconvert_exporter": "python",
   "pygments_lexer": "ipython3",
   "version": "3.8.16"
  }
 },
 "nbformat": 4,
 "nbformat_minor": 5
}
