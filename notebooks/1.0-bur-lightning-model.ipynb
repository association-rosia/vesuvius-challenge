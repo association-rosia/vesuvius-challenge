{
 "cells": [
  {
   "attachments": {},
   "cell_type": "markdown",
   "metadata": {},
   "source": [
    "# Test for Models module"
   ]
  },
  {
   "attachments": {},
   "cell_type": "markdown",
   "metadata": {},
   "source": [
    "## Librarie"
   ]
  },
  {
   "cell_type": "code",
   "execution_count": 4,
   "metadata": {},
   "outputs": [],
   "source": [
    "import os, sys\n",
    "\n",
    "sys.path.insert(0, os.pardir)\n",
    "\n",
    "import torch\n",
    "from torch import nn\n",
    "import numpy as np\n",
    "\n",
    "from src.models.unet3d import UNet3d"
   ]
  },
  {
   "attachments": {},
   "cell_type": "markdown",
   "metadata": {},
   "source": [
    "## Model"
   ]
  },
  {
   "attachments": {},
   "cell_type": "markdown",
   "metadata": {},
   "source": [
    "### Try Half precision"
   ]
  },
  {
   "cell_type": "code",
   "execution_count": 2,
   "metadata": {},
   "outputs": [
    {
     "name": "stdout",
     "output_type": "stream",
     "text": [
      "\"compute_columns3d\" not implemented for 'Half'\n"
     ]
    }
   ],
   "source": [
    "try:\n",
    "    c = nn.Conv3d(1, 32, 3).half()\n",
    "    inputs = torch.randn(8, 1, 8, 256, 256).half()\n",
    "    outputs = c(inputs)\n",
    "    display(inputs.shape)\n",
    "    display(outputs.shape)\n",
    "except Exception as e:\n",
    "    print(e)"
   ]
  },
  {
   "attachments": {},
   "cell_type": "markdown",
   "metadata": {},
   "source": [
    "### Try on GPU"
   ]
  },
  {
   "cell_type": "code",
   "execution_count": 3,
   "metadata": {},
   "outputs": [
    {
     "name": "stdout",
     "output_type": "stream",
     "text": [
      "Conv3D is not supported on MPS\n"
     ]
    }
   ],
   "source": [
    "device = torch.device('cuda' if torch.cuda.is_available() else 'mps' if torch.backends.mps.is_available() else 'cpu')\n",
    "try:\n",
    "    c = nn.Conv3d(1, 32, 3).to(device=device)\n",
    "    inputs = torch.randn(8, 1, 8, 256, 256).to(device=device)\n",
    "    outputs = c(inputs)\n",
    "    display(inputs.shape)\n",
    "    display(outputs.shape)\n",
    "except Exception as e:\n",
    "    print(e)"
   ]
  },
  {
   "attachments": {},
   "cell_type": "markdown",
   "metadata": {},
   "source": [
    "### From 3D Images To 2D Mask"
   ]
  },
  {
   "attachments": {},
   "cell_type": "markdown",
   "metadata": {},
   "source": [
    "#### Max Pooling 3D"
   ]
  },
  {
   "cell_type": "code",
   "execution_count": 4,
   "metadata": {},
   "outputs": [
    {
     "data": {
      "text/plain": [
       "torch.Size([8, 1, 64, 256, 256])"
      ]
     },
     "metadata": {},
     "output_type": "display_data"
    },
    {
     "data": {
      "text/plain": [
       "torch.Size([8, 1, 1, 256, 256])"
      ]
     },
     "metadata": {},
     "output_type": "display_data"
    }
   ],
   "source": [
    "# pool of non-square window\n",
    "m = nn.AdaptiveMaxPool3d((1, 256, 256))\n",
    "inputs = torch.randn(8, 1, 64, 256, 256)\n",
    "outputs = m(inputs)\n",
    "\n",
    "display(inputs.shape)\n",
    "display(outputs.shape)"
   ]
  },
  {
   "attachments": {},
   "cell_type": "markdown",
   "metadata": {},
   "source": [
    "#### Linear "
   ]
  },
  {
   "cell_type": "code",
   "execution_count": 5,
   "metadata": {},
   "outputs": [
    {
     "data": {
      "text/plain": [
       "torch.Size([128, 20])"
      ]
     },
     "metadata": {},
     "output_type": "display_data"
    },
    {
     "data": {
      "text/plain": [
       "torch.Size([128, 30])"
      ]
     },
     "metadata": {},
     "output_type": "display_data"
    }
   ],
   "source": [
    "m = nn.Linear(20, 30)\n",
    "input = torch.randn(128, 20)\n",
    "output = m(input)\n",
    "display(input.shape)\n",
    "display(output.size())"
   ]
  },
  {
   "cell_type": "code",
   "execution_count": 6,
   "metadata": {},
   "outputs": [
    {
     "data": {
      "text/plain": [
       "torch.Size([32, 1, 5, 5])"
      ]
     },
     "metadata": {},
     "output_type": "display_data"
    },
    {
     "data": {
      "text/plain": [
       "torch.Size([32, 25])"
      ]
     },
     "metadata": {},
     "output_type": "display_data"
    },
    {
     "data": {
      "text/plain": [
       "torch.Size([160, 5])"
      ]
     },
     "metadata": {},
     "output_type": "display_data"
    }
   ],
   "source": [
    "input = torch.randn(32, 1, 5, 5)\n",
    "display(input.shape)\n",
    "# With default parameters\n",
    "m = nn.Flatten()\n",
    "output = m(input)\n",
    "display(output.size())\n",
    "# With non-default parameters\n",
    "m = nn.Flatten(0, 2)\n",
    "output = m(input)\n",
    "display(output.size())"
   ]
  },
  {
   "cell_type": "code",
   "execution_count": 5,
   "metadata": {},
   "outputs": [],
   "source": [
    "inputs = torch.randn(8, 1, 8, 256, 256)"
   ]
  },
  {
   "attachments": {},
   "cell_type": "markdown",
   "metadata": {},
   "source": [
    "### UNet3D"
   ]
  },
  {
   "cell_type": "code",
   "execution_count": 6,
   "metadata": {},
   "outputs": [
    {
     "data": {
      "text/plain": [
       "tensor([[[-0.2429, -0.1109, -0.1796,  ..., -0.0175,  0.2780, -0.1272],\n",
       "         [-0.1627, -0.1090, -0.2130,  ...,  0.0763,  0.0143,  0.2479],\n",
       "         [-0.2614, -0.1307,  0.2664,  ...,  0.0660,  0.2463, -0.0158],\n",
       "         ...,\n",
       "         [-0.2740,  0.1821,  0.1675,  ..., -0.0849,  0.3529, -0.0006],\n",
       "         [-0.2410,  0.1646,  0.1002,  ...,  0.1252,  0.0027, -0.0861],\n",
       "         [-0.1596, -0.1959,  0.0088,  ..., -0.0131, -0.2015, -0.1626]],\n",
       "\n",
       "        [[-0.3168,  0.0542, -0.2880,  ..., -0.0314,  0.2389, -0.2243],\n",
       "         [-0.2966,  0.1489, -0.0021,  ..., -0.0836,  0.3102,  0.0105],\n",
       "         [-0.3180,  0.0012,  0.0494,  ...,  0.0106,  0.1391, -0.1041],\n",
       "         ...,\n",
       "         [-0.1492, -0.2013,  0.1654,  ...,  0.1220, -0.1683,  0.0610],\n",
       "         [-0.2024, -0.0510, -0.0352,  ...,  0.3232,  0.0719, -0.1029],\n",
       "         [-0.2086, -0.1803, -0.1657,  ..., -0.2263, -0.1479, -0.3583]],\n",
       "\n",
       "        [[-0.4633, -0.3944, -0.1506,  ...,  0.1481,  0.3138, -0.2984],\n",
       "         [-0.2961, -0.2286, -0.3898,  ...,  0.0105,  0.2197, -0.1541],\n",
       "         [-0.4518, -0.2034, -0.2290,  ...,  0.3702, -0.3076, -0.1276],\n",
       "         ...,\n",
       "         [-0.3794, -0.0475, -0.1591,  ...,  0.1498, -0.2117,  0.1594],\n",
       "         [-0.3507, -0.0030,  0.0573,  ...,  0.0012, -0.1103, -0.0725],\n",
       "         [-0.1491, -0.0630, -0.1025,  ...,  0.0595, -0.2404, -0.2737]],\n",
       "\n",
       "        ...,\n",
       "\n",
       "        [[-0.4608, -0.2566, -0.2433,  ...,  0.1271,  0.0730, -0.2258],\n",
       "         [-0.2640,  0.1736,  0.0369,  ...,  0.3216, -0.1494, -0.2698],\n",
       "         [-0.2149, -0.0339,  0.0929,  ..., -0.1202,  0.0998, -0.2457],\n",
       "         ...,\n",
       "         [-0.3003, -0.1214,  0.0114,  ...,  0.0716, -0.4380, -0.2045],\n",
       "         [-0.3428, -0.1076,  0.0705,  ...,  0.0754,  0.2332, -0.0245],\n",
       "         [-0.1584, -0.1861, -0.2660,  ..., -0.3129, -0.2598, -0.2980]],\n",
       "\n",
       "        [[-0.3937, -0.3170,  0.0290,  ...,  0.3344,  0.2063, -0.0274],\n",
       "         [-0.4319,  0.0494,  0.4616,  ..., -0.0333, -0.1138,  0.0281],\n",
       "         [-0.1563, -0.0684, -0.1542,  ..., -0.1241,  0.1594, -0.1563],\n",
       "         ...,\n",
       "         [-0.3772, -0.1111, -0.0499,  ...,  0.1837, -0.1058, -0.3381],\n",
       "         [-0.2114, -0.0930, -0.2866,  ...,  0.1259,  0.2599, -0.2613],\n",
       "         [-0.1685,  0.0089, -0.2738,  ..., -0.1727, -0.1497, -0.0098]],\n",
       "\n",
       "        [[-0.4163, -0.3235, -0.1967,  ...,  0.0643, -0.0758, -0.0903],\n",
       "         [-0.3897,  0.0297, -0.0007,  ...,  0.0912,  0.0555, -0.0255],\n",
       "         [-0.3283,  0.1075,  0.2921,  ...,  0.2818,  0.0486, -0.0952],\n",
       "         ...,\n",
       "         [-0.3257, -0.0643,  0.3144,  ...,  0.1665, -0.1391, -0.2067],\n",
       "         [-0.1813,  0.2020,  0.0920,  ...,  0.2771, -0.1255, -0.1649],\n",
       "         [-0.1663,  0.1267, -0.2559,  ..., -0.0921, -0.2091, -0.1665]]],\n",
       "       grad_fn=<SqueezeBackward2>)"
      ]
     },
     "execution_count": 6,
     "metadata": {},
     "output_type": "execute_result"
    }
   ],
   "source": [
    "list_channels = [1, 32, 64]\n",
    "unet3d = UNet3d(list_channels)\n",
    "unet3d(inputs)"
   ]
  },
  {
   "attachments": {},
   "cell_type": "markdown",
   "metadata": {},
   "source": [
    "# Pytorch-Lightning"
   ]
  },
  {
   "attachments": {},
   "cell_type": "markdown",
   "metadata": {},
   "source": [
    "## Metrics"
   ]
  },
  {
   "cell_type": "code",
   "execution_count": 19,
   "metadata": {},
   "outputs": [
    {
     "data": {
      "text/plain": [
       "tensor(1.)"
      ]
     },
     "execution_count": 19,
     "metadata": {},
     "output_type": "execute_result"
    }
   ],
   "source": [
    "from torchmetrics.classification import BinaryFBetaScore\n",
    "\n",
    "threshold = .5\n",
    "f05score = BinaryFBetaScore(0.5, threshold)\n",
    "targets = torch.randint(0, 2, (8000,1))\n",
    "predictions = torch.randint(0, 2, (8000,1))\n",
    "f05score(targets, targets)"
   ]
  },
  {
   "cell_type": "code",
   "execution_count": 1,
   "metadata": {},
   "outputs": [],
   "source": [
    "import os, sys\n",
    "\n",
    "sys.path.insert(0, os.pardir)\n",
    "\n",
    "from src.data.make_dataset import CustomDataset\n",
    "from src.models.metrics import F05Score\n",
    "from constant import TRAIN_FRAGMENTS\n",
    "from torch.utils.data import DataLoader\n",
    "from src.utils import get_device\n",
    "from src.data.make_dataset import get_mask_sizes\n",
    "\n",
    "dataset = CustomDataset(['1'], augmentation=False)\n",
    "dataloader = DataLoader(dataset=dataset, batch_size=128)\n",
    "mask_sizes = get_mask_sizes(['1'])\n",
    "device = get_device()\n",
    "metric = F05Score(mask_sizes, 0.5).to(device=device)\n",
    "metric_noise = F05Score(mask_sizes, 0.5).to(device=device)"
   ]
  },
  {
   "cell_type": "code",
   "execution_count": 2,
   "metadata": {},
   "outputs": [
    {
     "name": "stdout",
     "output_type": "stream",
     "text": [
      "Perfect F05Score: (tensor(1., device='mps:0'), tensor(1., device='mps:0'))\n",
      "Noisy F05Score: (tensor(0., device='mps:0'), tensor(0., device='mps:0'))\n"
     ]
    }
   ],
   "source": [
    "import torch\n",
    "import numpy as np\n",
    "\n",
    "for i, (indexes, inputs, masks, coords) in enumerate(dataloader):\n",
    "    # This metric have to give a score of 1\n",
    "    metric.update(masks, masks, coords, indexes)\n",
    "    outputs = torch.tensor(np.zeros(masks.shape, np.int16)).to(device=device)\n",
    "    # This metric have to give a score of ~0.5\n",
    "    metric_noise.update(outputs, masks, coords, indexes)\n",
    "    # if i > 10:\n",
    "    # break\n",
    "\n",
    "print('Perfect F05Score:', metric.compute())\n",
    "print('Noisy F05Score:', metric_noise.compute())\n",
    "metric.reset()\n",
    "metric_noise.reset()"
   ]
  },
  {
   "attachments": {},
   "cell_type": "markdown",
   "metadata": {},
   "source": [
    "## Losses"
   ]
  },
  {
   "cell_type": "code",
   "execution_count": 3,
   "metadata": {},
   "outputs": [],
   "source": [
    "import os, sys\n",
    "\n",
    "sys.path.insert(0, os.pardir)\n",
    "\n",
    "from src.data.make_dataset import CustomDataset\n",
    "from torch.utils.data import DataLoader\n",
    "from src.utils import get_device\n",
    "\n",
    "device = get_device()\n",
    "from src.models.losses import CombinedLoss\n",
    "\n",
    "dataset = CustomDataset(['1'], augmentation=False)\n",
    "dataloader = DataLoader(dataset=dataset, batch_size=128)\n",
    "criterion = CombinedLoss(bce_weight=1)"
   ]
  },
  {
   "cell_type": "code",
   "execution_count": 9,
   "metadata": {},
   "outputs": [
    {
     "name": "stdout",
     "output_type": "stream",
     "text": [
      "tensor(29.4795, device='mps:0')\n"
     ]
    }
   ],
   "source": [
    "import torch\n",
    "from torch.nn import BCELoss\n",
    "import numpy as np\n",
    "\n",
    "for i, (indexes, inputs, masks, coords) in enumerate(dataloader):\n",
    "    x = criterion(masks, masks)\n",
    "    outputs = torch.tensor(np.zeros(masks.shape, np.float32)).to(device=device)\n",
    "    x = bce(outputs, masks)\n",
    "    print(x)\n",
    "    break"
   ]
  },
  {
   "cell_type": "code",
   "execution_count": null,
   "metadata": {},
   "outputs": [],
   "source": []
  }
 ],
 "metadata": {
  "kernelspec": {
   "display_name": "vesuvius-env",
   "language": "python",
   "name": "python3"
  },
  "language_info": {
   "codemirror_mode": {
    "name": "ipython",
    "version": 3
   },
   "file_extension": ".py",
   "mimetype": "text/x-python",
   "name": "python",
   "nbconvert_exporter": "python",
   "pygments_lexer": "ipython3",
   "version": "3.8.16"
  },
  "orig_nbformat": 4
 },
 "nbformat": 4,
 "nbformat_minor": 2
}
