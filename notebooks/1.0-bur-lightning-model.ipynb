{
 "cells": [
  {
   "cell_type": "markdown",
   "metadata": {},
   "source": [
    "# Test for Models module"
   ]
  },
  {
   "cell_type": "markdown",
   "metadata": {},
   "source": [
    "## Librarie"
   ]
  },
  {
   "cell_type": "code",
   "execution_count": 4,
   "metadata": {},
   "outputs": [],
   "source": [
    "import os, sys\n",
    "\n",
    "sys.path.insert(0, os.pardir)\n",
    "\n",
    "import torch\n",
    "from torch import nn\n",
    "import numpy as np\n",
    "\n",
    "from src.models.unet3d import UNet3d"
   ]
  },
  {
   "cell_type": "markdown",
   "metadata": {},
   "source": [
    "## Model"
   ]
  },
  {
   "cell_type": "markdown",
   "metadata": {},
   "source": [
    "### Try Half precision"
   ]
  },
  {
   "cell_type": "code",
   "execution_count": 2,
   "metadata": {},
   "outputs": [
    {
     "name": "stdout",
     "output_type": "stream",
     "text": [
      "\"compute_columns3d\" not implemented for 'Half'\n"
     ]
    }
   ],
   "source": [
    "try:\n",
    "    c = nn.Conv3d(1, 32, 3).half()\n",
    "    inputs = torch.randn(8, 1, 8, 256, 256).half()\n",
    "    outputs = c(inputs)\n",
    "    display(inputs.shape)\n",
    "    display(outputs.shape)\n",
    "except Exception as e:\n",
    "    print(e)"
   ]
  },
  {
   "cell_type": "markdown",
   "metadata": {},
   "source": [
    "### Try on GPU"
   ]
  },
  {
   "cell_type": "code",
   "execution_count": 3,
   "metadata": {},
   "outputs": [
    {
     "name": "stdout",
     "output_type": "stream",
     "text": [
      "Conv3D is not supported on MPS\n"
     ]
    }
   ],
   "source": [
    "device = torch.device('cuda' if torch.cuda.is_available() else 'mps' if torch.backends.mps.is_available() else 'cpu')\n",
    "try:\n",
    "    c = nn.Conv3d(1, 32, 3).to(device=device)\n",
    "    inputs = torch.randn(8, 1, 8, 256, 256).to(device=device)\n",
    "    outputs = c(inputs)\n",
    "    display(inputs.shape)\n",
    "    display(outputs.shape)\n",
    "except Exception as e:\n",
    "    print(e)"
   ]
  },
  {
   "cell_type": "markdown",
   "metadata": {},
   "source": [
    "### From 3D Images To 2D Mask"
   ]
  },
  {
   "cell_type": "markdown",
   "metadata": {},
   "source": [
    "#### Max Pooling 3D"
   ]
  },
  {
   "cell_type": "code",
   "execution_count": 4,
   "metadata": {},
   "outputs": [
    {
     "data": {
      "text/plain": [
       "torch.Size([8, 1, 64, 256, 256])"
      ]
     },
     "metadata": {},
     "output_type": "display_data"
    },
    {
     "data": {
      "text/plain": [
       "torch.Size([8, 1, 1, 256, 256])"
      ]
     },
     "metadata": {},
     "output_type": "display_data"
    }
   ],
   "source": [
    "# pool of non-square window\n",
    "m = nn.AdaptiveMaxPool3d((1, 256, 256))\n",
    "inputs = torch.randn(8, 1, 64, 256, 256)\n",
    "outputs = m(inputs)\n",
    "\n",
    "display(inputs.shape)\n",
    "display(outputs.shape)"
   ]
  },
  {
   "cell_type": "markdown",
   "metadata": {},
   "source": [
    "#### Linear "
   ]
  },
  {
   "cell_type": "code",
   "execution_count": 5,
   "metadata": {},
   "outputs": [
    {
     "data": {
      "text/plain": [
       "torch.Size([128, 20])"
      ]
     },
     "metadata": {},
     "output_type": "display_data"
    },
    {
     "data": {
      "text/plain": [
       "torch.Size([128, 30])"
      ]
     },
     "metadata": {},
     "output_type": "display_data"
    }
   ],
   "source": [
    "m = nn.Linear(20, 30)\n",
    "input = torch.randn(128, 20)\n",
    "output = m(input)\n",
    "display(input.shape)\n",
    "display(output.size())"
   ]
  },
  {
   "cell_type": "code",
   "execution_count": 6,
   "metadata": {},
   "outputs": [
    {
     "data": {
      "text/plain": [
       "torch.Size([32, 1, 5, 5])"
      ]
     },
     "metadata": {},
     "output_type": "display_data"
    },
    {
     "data": {
      "text/plain": [
       "torch.Size([32, 25])"
      ]
     },
     "metadata": {},
     "output_type": "display_data"
    },
    {
     "data": {
      "text/plain": [
       "torch.Size([160, 5])"
      ]
     },
     "metadata": {},
     "output_type": "display_data"
    }
   ],
   "source": [
    "input = torch.randn(32, 1, 5, 5)\n",
    "display(input.shape)\n",
    "# With default parameters\n",
    "m = nn.Flatten()\n",
    "output = m(input)\n",
    "display(output.size())\n",
    "# With non-default parameters\n",
    "m = nn.Flatten(0, 2)\n",
    "output = m(input)\n",
    "display(output.size())"
   ]
  },
  {
   "cell_type": "code",
   "execution_count": 5,
   "metadata": {},
   "outputs": [],
   "source": [
    "inputs = torch.randn(8, 1, 8, 256, 256)"
   ]
  },
  {
   "cell_type": "markdown",
   "metadata": {},
   "source": [
    "### UNet3D"
   ]
  },
  {
   "cell_type": "code",
   "execution_count": 6,
   "metadata": {},
   "outputs": [
    {
     "data": {
      "text/plain": [
       "tensor([[[-0.2429, -0.1109, -0.1796,  ..., -0.0175,  0.2780, -0.1272],\n",
       "         [-0.1627, -0.1090, -0.2130,  ...,  0.0763,  0.0143,  0.2479],\n",
       "         [-0.2614, -0.1307,  0.2664,  ...,  0.0660,  0.2463, -0.0158],\n",
       "         ...,\n",
       "         [-0.2740,  0.1821,  0.1675,  ..., -0.0849,  0.3529, -0.0006],\n",
       "         [-0.2410,  0.1646,  0.1002,  ...,  0.1252,  0.0027, -0.0861],\n",
       "         [-0.1596, -0.1959,  0.0088,  ..., -0.0131, -0.2015, -0.1626]],\n",
       "\n",
       "        [[-0.3168,  0.0542, -0.2880,  ..., -0.0314,  0.2389, -0.2243],\n",
       "         [-0.2966,  0.1489, -0.0021,  ..., -0.0836,  0.3102,  0.0105],\n",
       "         [-0.3180,  0.0012,  0.0494,  ...,  0.0106,  0.1391, -0.1041],\n",
       "         ...,\n",
       "         [-0.1492, -0.2013,  0.1654,  ...,  0.1220, -0.1683,  0.0610],\n",
       "         [-0.2024, -0.0510, -0.0352,  ...,  0.3232,  0.0719, -0.1029],\n",
       "         [-0.2086, -0.1803, -0.1657,  ..., -0.2263, -0.1479, -0.3583]],\n",
       "\n",
       "        [[-0.4633, -0.3944, -0.1506,  ...,  0.1481,  0.3138, -0.2984],\n",
       "         [-0.2961, -0.2286, -0.3898,  ...,  0.0105,  0.2197, -0.1541],\n",
       "         [-0.4518, -0.2034, -0.2290,  ...,  0.3702, -0.3076, -0.1276],\n",
       "         ...,\n",
       "         [-0.3794, -0.0475, -0.1591,  ...,  0.1498, -0.2117,  0.1594],\n",
       "         [-0.3507, -0.0030,  0.0573,  ...,  0.0012, -0.1103, -0.0725],\n",
       "         [-0.1491, -0.0630, -0.1025,  ...,  0.0595, -0.2404, -0.2737]],\n",
       "\n",
       "        ...,\n",
       "\n",
       "        [[-0.4608, -0.2566, -0.2433,  ...,  0.1271,  0.0730, -0.2258],\n",
       "         [-0.2640,  0.1736,  0.0369,  ...,  0.3216, -0.1494, -0.2698],\n",
       "         [-0.2149, -0.0339,  0.0929,  ..., -0.1202,  0.0998, -0.2457],\n",
       "         ...,\n",
       "         [-0.3003, -0.1214,  0.0114,  ...,  0.0716, -0.4380, -0.2045],\n",
       "         [-0.3428, -0.1076,  0.0705,  ...,  0.0754,  0.2332, -0.0245],\n",
       "         [-0.1584, -0.1861, -0.2660,  ..., -0.3129, -0.2598, -0.2980]],\n",
       "\n",
       "        [[-0.3937, -0.3170,  0.0290,  ...,  0.3344,  0.2063, -0.0274],\n",
       "         [-0.4319,  0.0494,  0.4616,  ..., -0.0333, -0.1138,  0.0281],\n",
       "         [-0.1563, -0.0684, -0.1542,  ..., -0.1241,  0.1594, -0.1563],\n",
       "         ...,\n",
       "         [-0.3772, -0.1111, -0.0499,  ...,  0.1837, -0.1058, -0.3381],\n",
       "         [-0.2114, -0.0930, -0.2866,  ...,  0.1259,  0.2599, -0.2613],\n",
       "         [-0.1685,  0.0089, -0.2738,  ..., -0.1727, -0.1497, -0.0098]],\n",
       "\n",
       "        [[-0.4163, -0.3235, -0.1967,  ...,  0.0643, -0.0758, -0.0903],\n",
       "         [-0.3897,  0.0297, -0.0007,  ...,  0.0912,  0.0555, -0.0255],\n",
       "         [-0.3283,  0.1075,  0.2921,  ...,  0.2818,  0.0486, -0.0952],\n",
       "         ...,\n",
       "         [-0.3257, -0.0643,  0.3144,  ...,  0.1665, -0.1391, -0.2067],\n",
       "         [-0.1813,  0.2020,  0.0920,  ...,  0.2771, -0.1255, -0.1649],\n",
       "         [-0.1663,  0.1267, -0.2559,  ..., -0.0921, -0.2091, -0.1665]]],\n",
       "       grad_fn=<SqueezeBackward2>)"
      ]
     },
     "execution_count": 6,
     "metadata": {},
     "output_type": "execute_result"
    }
   ],
   "source": [
    "list_channels = [1, 32, 64]\n",
    "unet3d = UNet3d(list_channels)\n",
    "unet3d(inputs)"
   ]
  },
  {
   "cell_type": "markdown",
   "metadata": {},
   "source": [
    "# Pytorch-Lightning"
   ]
  },
  {
   "cell_type": "markdown",
   "metadata": {},
   "source": [
    "## Metrics"
   ]
  },
  {
   "cell_type": "code",
   "execution_count": 1,
   "metadata": {},
   "outputs": [],
   "source": [
    "import os, sys\n",
    "\n",
    "sys.path.insert(0, os.pardir)\n",
    "\n",
    "from src.data.make_dataset import CustomDataset\n",
    "from src.models.metrics import F05Score\n",
    "from constant import TRAIN_FRAGMENTS\n",
    "from torch.utils.data import DataLoader\n",
    "from src.utils import get_device\n",
    "from src.data.make_dataset import get_mask_sizes\n",
    "\n",
    "dataset = CustomDataset(TRAIN_FRAGMENTS, augmentation=False)\n",
    "dataloader = DataLoader(dataset=dataset, batch_size=128)\n",
    "mask_sizes = get_mask_sizes(TRAIN_FRAGMENTS)\n",
    "metric = F05Score(mask_sizes)\n",
    "metric_noise = F05Score(mask_sizes)\n",
    "device = get_device()"
   ]
  },
  {
   "cell_type": "code",
   "execution_count": 2,
   "metadata": {},
   "outputs": [
    {
     "name": "stdout",
     "output_type": "stream",
     "text": [
      "128 torch.Size([128, 1, 8, 256, 256]) torch.Size([128, 256, 256]) torch.Size([128, 2])\n",
      "torch.Size([128, 256, 256]) torch.Size([128, 256, 256]) torch.Size([128, 2]) ['1', '1', '1', '1', '1', '1', '1', '1', '1', '1', '1', '1', '1', '1', '1', '1', '1', '1', '1', '1', '1', '1', '1', '1', '1', '1', '1', '1', '1', '1', '1', '1', '1', '1', '1', '1', '1', '1', '1', '1', '1', '1', '1', '1', '1', '1', '1', '1', '1', '1', '1', '1', '1', '1', '1', '1', '1', '1', '1', '1', '1', '1', '1', '1', '1', '1', '1', '1', '1', '1', '1', '1', '1', '1', '1', '1', '1', '1', '1', '1', '1', '1', '1', '1', '1', '1', '1', '1', '1', '1', '1', '1', '1', '1', '1', '1', '1', '1', '1', '1', '1', '1', '1', '1', '1', '1', '1', '1', '1', '1', '1', '1', '1', '1', '1', '1', '1', '1', '1', '1', '1', '1', '1', '1', '1', '1', '1', '1']\n"
     ]
    },
    {
     "ename": "ValueError",
     "evalue": "unknown is not supported",
     "output_type": "error",
     "traceback": [
      "\u001b[0;31m---------------------------------------------------------------------------\u001b[0m",
      "\u001b[0;31mValueError\u001b[0m                                Traceback (most recent call last)",
      "Cell \u001b[0;32mIn[2], line 13\u001b[0m\n\u001b[1;32m      7\u001b[0m     \u001b[39m# outputs = masks + torch.as_tensor(np.random.randint(0, 1, size=masks.shape)).to(device=device)\u001b[39;00m\n\u001b[1;32m      8\u001b[0m     \u001b[39m# # This metric have to give a score of ~0.5\u001b[39;00m\n\u001b[1;32m      9\u001b[0m     \u001b[39m# metric_noise.update(outputs, masks, coords, indexes)\u001b[39;00m\n\u001b[1;32m     10\u001b[0m     \u001b[39m# if i > 10:\u001b[39;00m\n\u001b[1;32m     11\u001b[0m     \u001b[39mbreak\u001b[39;00m\n\u001b[0;32m---> 13\u001b[0m \u001b[39mprint\u001b[39m(\u001b[39m'\u001b[39m\u001b[39mPerfect F05Score:\u001b[39m\u001b[39m'\u001b[39m, metric\u001b[39m.\u001b[39;49mcompute())\n\u001b[1;32m     14\u001b[0m \u001b[39m# print('Noisy F05Score:', metric_noise.compute())\u001b[39;00m\n",
      "File \u001b[0;32m/opt/homebrew/Caskroom/miniconda/base/envs/vesuvius-challenge-ink-detection-env/lib/python3.8/site-packages/torchmetrics/metric.py:532\u001b[0m, in \u001b[0;36mMetric._wrap_compute.<locals>.wrapped_func\u001b[0;34m(*args, **kwargs)\u001b[0m\n\u001b[1;32m    524\u001b[0m \u001b[39m# compute relies on the sync context manager to gather the states across processes and apply reduction\u001b[39;00m\n\u001b[1;32m    525\u001b[0m \u001b[39m# if synchronization happened, the current rank accumulated states will be restored to keep\u001b[39;00m\n\u001b[1;32m    526\u001b[0m \u001b[39m# accumulation going if ``should_unsync=True``,\u001b[39;00m\n\u001b[1;32m    527\u001b[0m \u001b[39mwith\u001b[39;00m \u001b[39mself\u001b[39m\u001b[39m.\u001b[39msync_context(\n\u001b[1;32m    528\u001b[0m     dist_sync_fn\u001b[39m=\u001b[39m\u001b[39mself\u001b[39m\u001b[39m.\u001b[39mdist_sync_fn,\n\u001b[1;32m    529\u001b[0m     should_sync\u001b[39m=\u001b[39m\u001b[39mself\u001b[39m\u001b[39m.\u001b[39m_to_sync,\n\u001b[1;32m    530\u001b[0m     should_unsync\u001b[39m=\u001b[39m\u001b[39mself\u001b[39m\u001b[39m.\u001b[39m_should_unsync,\n\u001b[1;32m    531\u001b[0m ):\n\u001b[0;32m--> 532\u001b[0m     value \u001b[39m=\u001b[39m compute(\u001b[39m*\u001b[39;49margs, \u001b[39m*\u001b[39;49m\u001b[39m*\u001b[39;49mkwargs)\n\u001b[1;32m    533\u001b[0m     \u001b[39mself\u001b[39m\u001b[39m.\u001b[39m_computed \u001b[39m=\u001b[39m _squeeze_if_scalar(value)\n\u001b[1;32m    535\u001b[0m \u001b[39mreturn\u001b[39;00m \u001b[39mself\u001b[39m\u001b[39m.\u001b[39m_computed\n",
      "File \u001b[0;32m~/Documents/vesuvius-challenge-ink-detection/notebooks/../src/models/metrics.py:40\u001b[0m, in \u001b[0;36mF05Score.compute\u001b[0;34m(self)\u001b[0m\n\u001b[1;32m     37\u001b[0m reconstructed_target \u001b[39m=\u001b[39m reconstruct_images(targets, coords, \u001b[39mself\u001b[39m\u001b[39m.\u001b[39mindexes, \u001b[39mself\u001b[39m\u001b[39m.\u001b[39mmask_sizes)\n\u001b[1;32m     39\u001b[0m \u001b[39m# Calculate F0.5 score between sub images and sub label masks\u001b[39;00m\n\u001b[0;32m---> 40\u001b[0m _, _, sub_f05_score, _ \u001b[39m=\u001b[39m precision_recall_fscore_support(predictions, targets, beta\u001b[39m=\u001b[39;49m\u001b[39m0.5\u001b[39;49m)\n\u001b[1;32m     42\u001b[0m \u001b[39m# Calculate F0.5 score between reconstructed images and label masks\u001b[39;00m\n\u001b[1;32m     43\u001b[0m _, _, f05_score, _ \u001b[39m=\u001b[39m precision_recall_fscore_support(reconstructed_prediction, reconstructed_target, beta\u001b[39m=\u001b[39m\u001b[39m0.5\u001b[39m)\n",
      "File \u001b[0;32m/opt/homebrew/Caskroom/miniconda/base/envs/vesuvius-challenge-ink-detection-env/lib/python3.8/site-packages/sklearn/metrics/_classification.py:1573\u001b[0m, in \u001b[0;36mprecision_recall_fscore_support\u001b[0;34m(y_true, y_pred, beta, labels, pos_label, average, warn_for, sample_weight, zero_division)\u001b[0m\n\u001b[1;32m   1571\u001b[0m \u001b[39mif\u001b[39;00m beta \u001b[39m<\u001b[39m \u001b[39m0\u001b[39m:\n\u001b[1;32m   1572\u001b[0m     \u001b[39mraise\u001b[39;00m \u001b[39mValueError\u001b[39;00m(\u001b[39m\"\u001b[39m\u001b[39mbeta should be >=0 in the F-beta score\u001b[39m\u001b[39m\"\u001b[39m)\n\u001b[0;32m-> 1573\u001b[0m labels \u001b[39m=\u001b[39m _check_set_wise_labels(y_true, y_pred, average, labels, pos_label)\n\u001b[1;32m   1575\u001b[0m \u001b[39m# Calculate tp_sum, pred_sum, true_sum ###\u001b[39;00m\n\u001b[1;32m   1576\u001b[0m samplewise \u001b[39m=\u001b[39m average \u001b[39m==\u001b[39m \u001b[39m\"\u001b[39m\u001b[39msamples\u001b[39m\u001b[39m\"\u001b[39m\n",
      "File \u001b[0;32m/opt/homebrew/Caskroom/miniconda/base/envs/vesuvius-challenge-ink-detection-env/lib/python3.8/site-packages/sklearn/metrics/_classification.py:1374\u001b[0m, in \u001b[0;36m_check_set_wise_labels\u001b[0;34m(y_true, y_pred, average, labels, pos_label)\u001b[0m\n\u001b[1;32m   1371\u001b[0m \u001b[39mif\u001b[39;00m average \u001b[39mnot\u001b[39;00m \u001b[39min\u001b[39;00m average_options \u001b[39mand\u001b[39;00m average \u001b[39m!=\u001b[39m \u001b[39m\"\u001b[39m\u001b[39mbinary\u001b[39m\u001b[39m\"\u001b[39m:\n\u001b[1;32m   1372\u001b[0m     \u001b[39mraise\u001b[39;00m \u001b[39mValueError\u001b[39;00m(\u001b[39m\"\u001b[39m\u001b[39maverage has to be one of \u001b[39m\u001b[39m\"\u001b[39m \u001b[39m+\u001b[39m \u001b[39mstr\u001b[39m(average_options))\n\u001b[0;32m-> 1374\u001b[0m y_type, y_true, y_pred \u001b[39m=\u001b[39m _check_targets(y_true, y_pred)\n\u001b[1;32m   1375\u001b[0m \u001b[39m# Convert to Python primitive type to avoid NumPy type / Python str\u001b[39;00m\n\u001b[1;32m   1376\u001b[0m \u001b[39m# comparison. See https://github.com/numpy/numpy/issues/6784\u001b[39;00m\n\u001b[1;32m   1377\u001b[0m present_labels \u001b[39m=\u001b[39m unique_labels(y_true, y_pred)\u001b[39m.\u001b[39mtolist()\n",
      "File \u001b[0;32m/opt/homebrew/Caskroom/miniconda/base/envs/vesuvius-challenge-ink-detection-env/lib/python3.8/site-packages/sklearn/metrics/_classification.py:106\u001b[0m, in \u001b[0;36m_check_targets\u001b[0;34m(y_true, y_pred)\u001b[0m\n\u001b[1;32m    104\u001b[0m \u001b[39m# No metrics support \"multiclass-multioutput\" format\u001b[39;00m\n\u001b[1;32m    105\u001b[0m \u001b[39mif\u001b[39;00m y_type \u001b[39mnot\u001b[39;00m \u001b[39min\u001b[39;00m [\u001b[39m\"\u001b[39m\u001b[39mbinary\u001b[39m\u001b[39m\"\u001b[39m, \u001b[39m\"\u001b[39m\u001b[39mmulticlass\u001b[39m\u001b[39m\"\u001b[39m, \u001b[39m\"\u001b[39m\u001b[39mmultilabel-indicator\u001b[39m\u001b[39m\"\u001b[39m]:\n\u001b[0;32m--> 106\u001b[0m     \u001b[39mraise\u001b[39;00m \u001b[39mValueError\u001b[39;00m(\u001b[39m\"\u001b[39m\u001b[39m{0}\u001b[39;00m\u001b[39m is not supported\u001b[39m\u001b[39m\"\u001b[39m\u001b[39m.\u001b[39mformat(y_type))\n\u001b[1;32m    108\u001b[0m \u001b[39mif\u001b[39;00m y_type \u001b[39min\u001b[39;00m [\u001b[39m\"\u001b[39m\u001b[39mbinary\u001b[39m\u001b[39m\"\u001b[39m, \u001b[39m\"\u001b[39m\u001b[39mmulticlass\u001b[39m\u001b[39m\"\u001b[39m]:\n\u001b[1;32m    109\u001b[0m     y_true \u001b[39m=\u001b[39m column_or_1d(y_true)\n",
      "\u001b[0;31mValueError\u001b[0m: unknown is not supported"
     ]
    }
   ],
   "source": [
    "for i, (indexes, inputs, masks, coords) in enumerate(dataloader):\n",
    "    print(len(indexes), inputs.shape, masks.shape, coords.shape)\n",
    "    outputs = masks\n",
    "    # This metric have to give a score of 1\n",
    "    metric.update(outputs, masks, coords, indexes)\n",
    "    \n",
    "    # outputs = masks + torch.as_tensor(np.random.randint(0, 1, size=masks.shape)).to(device=device)\n",
    "    # # This metric have to give a score of ~0.5\n",
    "    # metric_noise.update(outputs, masks, coords, indexes)\n",
    "    # if i > 10:\n",
    "    break\n",
    "\n",
    "print('Perfect F05Score:', metric.compute())\n",
    "# print('Noisy F05Score:', metric_noise.compute())"
   ]
  },
  {
   "cell_type": "markdown",
   "metadata": {},
   "source": [
    "## Losses"
   ]
  },
  {
   "cell_type": "code",
   "execution_count": null,
   "metadata": {},
   "outputs": [],
   "source": [
    "from src.models.losses import CombinedLoss"
   ]
  }
 ],
 "metadata": {
  "kernelspec": {
   "display_name": "Python 3 (ipykernel)",
   "language": "python",
   "name": "python3"
  },
  "language_info": {
   "codemirror_mode": {
    "name": "ipython",
    "version": 3
   },
   "file_extension": ".py",
   "mimetype": "text/x-python",
   "name": "python",
   "nbconvert_exporter": "python",
   "pygments_lexer": "ipython3",
   "version": "3.10.9"
  }
 },
 "nbformat": 4,
 "nbformat_minor": 2
}
