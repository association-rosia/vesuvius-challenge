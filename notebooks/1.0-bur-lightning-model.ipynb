{
 "cells": [
  {
   "attachments": {},
   "cell_type": "markdown",
   "metadata": {},
   "source": [
    "# Test for Models module"
   ]
  },
  {
   "attachments": {},
   "cell_type": "markdown",
   "metadata": {},
   "source": [
    "## Librarie"
   ]
  },
  {
   "cell_type": "code",
   "execution_count": 11,
   "metadata": {},
   "outputs": [],
   "source": [
    "import os, sys\n",
    "\n",
    "sys.path.insert(0, os.pardir)\n",
    "\n",
    "import torch\n",
    "from torch import nn\n",
    "import numpy as np\n",
    "\n",
    "from src.models.unet3d import UNet3d"
   ]
  },
  {
   "attachments": {},
   "cell_type": "markdown",
   "metadata": {},
   "source": [
    "## Model"
   ]
  },
  {
   "attachments": {},
   "cell_type": "markdown",
   "metadata": {},
   "source": [
    "### Try Half precision"
   ]
  },
  {
   "cell_type": "code",
   "execution_count": 14,
   "metadata": {},
   "outputs": [
    {
     "name": "stdout",
     "output_type": "stream",
     "text": [
      "\"compute_columns3d\" not implemented for 'Half'\n"
     ]
    }
   ],
   "source": [
    "try:\n",
    "    c = nn.Conv3d(1, 32, 3).half()\n",
    "    inputs = torch.randn(8, 1, 8, 256, 256).half()\n",
    "    outputs = c(inputs)\n",
    "    display(inputs.shape)\n",
    "    display(outputs.shape)\n",
    "except Exception as e:\n",
    "    print(e)"
   ]
  },
  {
   "attachments": {},
   "cell_type": "markdown",
   "metadata": {},
   "source": [
    "### Try on GPU"
   ]
  },
  {
   "cell_type": "code",
   "execution_count": 15,
   "metadata": {},
   "outputs": [
    {
     "name": "stdout",
     "output_type": "stream",
     "text": [
      "Conv3D is not supported on MPS\n"
     ]
    }
   ],
   "source": [
    "device = torch.device('cuda' if torch.cuda.is_available() else 'mps' if torch.backends.mps.is_available() else 'cpu')\n",
    "try:\n",
    "    c = nn.Conv3d(1, 32, 3).to(device=device)\n",
    "    inputs = torch.randn(8, 1, 8, 256, 256).to(device=device)\n",
    "    outputs = c(inputs)\n",
    "    display(inputs.shape)\n",
    "    display(outputs.shape)\n",
    "except Exception as e:\n",
    "    print(e)"
   ]
  },
  {
   "attachments": {},
   "cell_type": "markdown",
   "metadata": {},
   "source": [
    "### From 3D Images To 2D Mask"
   ]
  },
  {
   "attachments": {},
   "cell_type": "markdown",
   "metadata": {},
   "source": [
    "#### Max Pooling 3D"
   ]
  },
  {
   "cell_type": "code",
   "execution_count": 2,
   "metadata": {},
   "outputs": [
    {
     "data": {
      "text/plain": [
       "torch.Size([8, 1, 8, 256, 256])"
      ]
     },
     "metadata": {},
     "output_type": "display_data"
    },
    {
     "data": {
      "text/plain": [
       "torch.Size([8, 1, 1, 256, 256])"
      ]
     },
     "metadata": {},
     "output_type": "display_data"
    }
   ],
   "source": [
    "# pool of non-square window\n",
    "m = nn.MaxPool3d((8, 1, 1))\n",
    "inputs = torch.randn(8, 1, 8, 256, 256)\n",
    "outputs = m(inputs)\n",
    "\n",
    "display(inputs.shape)\n",
    "display(outputs.shape)"
   ]
  },
  {
   "attachments": {},
   "cell_type": "markdown",
   "metadata": {},
   "source": [
    "#### Linear "
   ]
  },
  {
   "cell_type": "code",
   "execution_count": 3,
   "metadata": {},
   "outputs": [
    {
     "data": {
      "text/plain": [
       "torch.Size([128, 20])"
      ]
     },
     "metadata": {},
     "output_type": "display_data"
    },
    {
     "data": {
      "text/plain": [
       "torch.Size([128, 30])"
      ]
     },
     "metadata": {},
     "output_type": "display_data"
    }
   ],
   "source": [
    "m = nn.Linear(20, 30)\n",
    "input = torch.randn(128, 20)\n",
    "output = m(input)\n",
    "display(input.shape)\n",
    "display(output.size())"
   ]
  },
  {
   "cell_type": "code",
   "execution_count": 4,
   "metadata": {},
   "outputs": [
    {
     "data": {
      "text/plain": [
       "torch.Size([32, 1, 5, 5])"
      ]
     },
     "metadata": {},
     "output_type": "display_data"
    },
    {
     "data": {
      "text/plain": [
       "torch.Size([32, 25])"
      ]
     },
     "metadata": {},
     "output_type": "display_data"
    },
    {
     "data": {
      "text/plain": [
       "torch.Size([160, 5])"
      ]
     },
     "metadata": {},
     "output_type": "display_data"
    }
   ],
   "source": [
    "input = torch.randn(32, 1, 5, 5)\n",
    "display(input.shape)\n",
    "# With default parameters\n",
    "m = nn.Flatten()\n",
    "output = m(input)\n",
    "display(output.size())\n",
    "# With non-default parameters\n",
    "m = nn.Flatten(0, 2)\n",
    "output = m(input)\n",
    "display(output.size())"
   ]
  },
  {
   "cell_type": "code",
   "execution_count": 9,
   "metadata": {},
   "outputs": [],
   "source": [
    "inputs = torch.randn(8, 1, 8, 256, 256)"
   ]
  },
  {
   "attachments": {},
   "cell_type": "markdown",
   "metadata": {},
   "source": [
    "### UNet3D"
   ]
  },
  {
   "cell_type": "code",
   "execution_count": 8,
   "metadata": {},
   "outputs": [
    {
     "name": "stdout",
     "output_type": "stream",
     "text": [
      "8\n"
     ]
    }
   ],
   "source": [
    "list_channels = [1, 32, 64, 128]\n",
    "unet3d = UNet3d(list_channels, depth=8)\n",
    "unet3d(inputs).shape"
   ]
  },
  {
   "attachments": {},
   "cell_type": "markdown",
   "metadata": {},
   "source": [
    "### H-DenseUNe"
   ]
  },
  {
   "cell_type": "code",
   "execution_count": null,
   "metadata": {},
   "outputs": [],
   "source": []
  },
  {
   "attachments": {},
   "cell_type": "markdown",
   "metadata": {},
   "source": [
    "# Pytorch-Lightning"
   ]
  },
  {
   "attachments": {},
   "cell_type": "markdown",
   "metadata": {},
   "source": [
    "## Metrics"
   ]
  },
  {
   "cell_type": "code",
   "execution_count": null,
   "metadata": {},
   "outputs": [],
   "source": [
    "from src.data.make_dataset import CustomDataset\n",
    "from src.models.metrics import F05Score\n",
    "from constant import TRAIN_FRAGMENTS\n",
    "from torch.utils.data import DataLoader\n",
    "from src.utils import get_device\n",
    "\n",
    "dataset = CustomDataset(TRAIN_FRAGMENTS)\n",
    "dataloader = DataLoader(dataset=dataset, batch_size=16)\n",
    "image_sizes = [\"A compléter\"]\n",
    "metric = F05Score(image_sizes)\n",
    "metric_noise = F05Score(image_sizes)\n",
    "device = get_device()\n",
    "\n",
    "for inputs, masks, coords, indexes in dataloader:\n",
    "    outputs = masks\n",
    "    # This metric have to give a score of 1\n",
    "    metric.update(outputs, masks, coords, indexes)\n",
    "    \n",
    "    outputs = masks + torch.as_tensor(np.random.random_integers(0, 1, size=masks.shape)).to(device=device)\n",
    "    # This metric have to give a score of ~0.5\n",
    "    metric_noise.update(outputs, masks, coords, indexes)\n",
    "\n",
    "print('Perfect F05Score:', metric.compute())\n",
    "print('Noisy F05Score:', metric_noise.compute())"
   ]
  },
  {
   "attachments": {},
   "cell_type": "markdown",
   "metadata": {},
   "source": [
    "## Losses"
   ]
  },
  {
   "cell_type": "code",
   "execution_count": null,
   "metadata": {},
   "outputs": [],
   "source": [
    "from src.models.losses import CombinedLoss"
   ]
  }
 ],
 "metadata": {
  "kernelspec": {
   "display_name": "vesuvius-env",
   "language": "python",
   "name": "python3"
  },
  "language_info": {
   "codemirror_mode": {
    "name": "ipython",
    "version": 3
   },
   "file_extension": ".py",
   "mimetype": "text/x-python",
   "name": "python",
   "nbconvert_exporter": "python",
   "pygments_lexer": "ipython3",
   "version": "3.8.16"
  },
  "orig_nbformat": 4
 },
 "nbformat": 4,
 "nbformat_minor": 2
}
