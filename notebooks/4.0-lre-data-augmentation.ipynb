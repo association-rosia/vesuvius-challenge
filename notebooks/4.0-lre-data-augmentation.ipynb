{
 "cells": [
  {
   "cell_type": "code",
   "execution_count": null,
   "id": "de4403fb",
   "metadata": {},
   "outputs": [],
   "source": [
    "from torchvision import transforms as T\n",
    "from matplotlib import pyplot as plt\n",
    "import random\n",
    "import os\n",
    "import sys\n",
    "import torch\n",
    "\n",
    "parent = os.path.dirname(os.getcwd())\n",
    "sys.path.insert(1, parent)\n",
    "\n",
    "from src.data.make_dataset import CustomDataset\n",
    "from constant import TRAIN_FRAGMENTS"
   ]
  },
  {
   "cell_type": "code",
   "execution_count": null,
   "id": "dfdc2214",
   "metadata": {},
   "outputs": [],
   "source": [
    "train_dataset = CustomDataset(TRAIN_FRAGMENTS, augmentation=False)\n",
    "fragment, slices, ink, center = train_dataset[0]"
   ]
  },
  {
   "cell_type": "code",
   "execution_count": null,
   "id": "6444ed59",
   "metadata": {},
   "outputs": [],
   "source": [
    "image = slices[0]\n",
    "mask = ink[0]\n",
    "\n",
    "fig, (ax1, ax2) = plt.subplots(1, 2)\n",
    "ax1.imshow(image[0].cpu())\n",
    "ax2.imshow(mask[0].cpu())"
   ]
  },
  {
   "cell_type": "code",
   "execution_count": null,
   "id": "62f64acc",
   "metadata": {},
   "outputs": [],
   "source": [
    "transforms = torch.nn.Sequential(T.RandomRotation(180), \n",
    "                                 T.RandomPerspective(), \n",
    "                                 T.ElasticTransform(alpha=500.0, sigma=10.0), \n",
    "                                 T.RandomHorizontalFlip(), \n",
    "                                 T.RandomVerticalFlip())\n",
    "\n",
    "seed = random.randint(0, 2**32)\n",
    "\n",
    "torch.manual_seed(seed)\n",
    "tr_image = transforms(image)\n",
    "torch.manual_seed(seed)\n",
    "tr_mask = transforms(mask)\n",
    "\n",
    "fig, (ax1, ax2) = plt.subplots(1, 2)\n",
    "ax1.imshow(tr_image[0].cpu())\n",
    "ax2.imshow(tr_mask[0].cpu())"
   ]
  }
 ],
 "metadata": {
  "kernelspec": {
   "display_name": "vesuvius-challenge-ink-detection-env",
   "language": "python",
   "name": "vesuvius-challenge-ink-detection-env"
  },
  "language_info": {
   "codemirror_mode": {
    "name": "ipython",
    "version": 3
   },
   "file_extension": ".py",
   "mimetype": "text/x-python",
   "name": "python",
   "nbconvert_exporter": "python",
   "pygments_lexer": "ipython3",
   "version": "3.8.16"
  }
 },
 "nbformat": 4,
 "nbformat_minor": 5
}
