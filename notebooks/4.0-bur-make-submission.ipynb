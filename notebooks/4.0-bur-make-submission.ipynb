{
 "cells": [
  {
   "attachments": {},
   "cell_type": "markdown",
   "metadata": {},
   "source": [
    "# Vesuvius Challenge - Ink Detection: Submission"
   ]
  },
  {
   "cell_type": "code",
   "execution_count": 65,
   "metadata": {},
   "outputs": [],
   "source": [
    "import wandb\n",
    "from glob import glob\n",
    "from os import sep\n",
    "from os.path import join, abspath\n",
    "import os\n",
    "\n",
    "import cv2\n",
    "import numpy as np\n",
    "import pandas as pd\n",
    "import torch\n",
    "\n",
    "MODELS_DIR = join(os.pardir, 'models')\n",
    "KAGGLE_INPUT_DIR = join(abspath(sep), 'kaggle', 'input')\n",
    "TEST_FRAGMENTS_PATH = join(KAGGLE_INPUT_DIR, 'vesuvius-challenge-ink-detection', 'test')"
   ]
  },
  {
   "attachments": {},
   "cell_type": "markdown",
   "metadata": {},
   "source": [
    "## Vesuvius WandB"
   ]
  },
  {
   "cell_type": "code",
   "execution_count": 23,
   "metadata": {},
   "outputs": [],
   "source": [
    "df = pd.read_csv(join(os.pardir, 'data', 'raw', 'wandb', 'wandb_export.csv'))\n",
    "df.set_index('ID', inplace=True)"
   ]
  },
  {
   "attachments": {},
   "cell_type": "markdown",
   "metadata": {},
   "source": [
    "## Utils"
   ]
  },
  {
   "cell_type": "code",
   "execution_count": 66,
   "metadata": {},
   "outputs": [],
   "source": [
    "def reconstruct_output(tiles, bboxes, fragment_id, fragment_shape, tile_size):\n",
    "    reconstructed_output = torch.zeros(fragment_shape).to(device=tiles.device)\n",
    "    count_map = torch.zeros(fragment_shape).to(device=tiles.device)\n",
    "\n",
    "    for i in range(tiles.shape[0]):\n",
    "        x0, y0, x1, y1 = bboxes[i]\n",
    "        reconstructed_output[y0:y1, x0:x1] += tiles[i, :, :]\n",
    "        count_map[y0:y1, x0:x1] += 1\n",
    "\n",
    "    reconstructed_output /= count_map\n",
    "    reconstructed_output = torch.nan_to_num(reconstructed_output, nan=0)\n",
    "\n",
    "    mask_path = os.path.join(TEST_FRAGMENTS_PATH, fragment_id, 'mask.png')\n",
    "    mask = cv2.imread(mask_path, cv2.IMREAD_GRAYSCALE)\n",
    "    padding = get_padding(mask.shape, tile_size)\n",
    "\n",
    "    shape = reconstructed_output.shape\n",
    "    x0, y0, x1, y1 = padding[1][0], padding[0][0], shape[1] - padding[1][1], shape[0] - padding[0][1]\n",
    "    reconstructed_output = reconstructed_output[y0:y1, x0:x1]\n",
    "\n",
    "    return reconstructed_output\n",
    "\n",
    "\n",
    "def get_fragment_shape(fragment_dir, fragment_id, tile_size):\n",
    "    mask_path = os.path.join(fragment_dir, fragment_id, 'mask.png')\n",
    "    mask = cv2.imread(mask_path, cv2.IMREAD_GRAYSCALE)\n",
    "    padding = get_padding(mask.shape, tile_size)\n",
    "    mask_pad = np.pad(mask, padding)\n",
    "\n",
    "    return mask_pad.shape\n",
    "\n",
    "\n",
    "def get_padding(mask_shape, tile_size, overlap=0.5):\n",
    "    pad_left = int(overlap * tile_size)\n",
    "    pad_up = int(overlap * tile_size)\n",
    "    pad_right = int(overlap * tile_size + tile_size - mask_shape[1] % tile_size)\n",
    "    pad_down = int(overlap * tile_size + tile_size - mask_shape[0] % tile_size)\n",
    "    padding = [(pad_up, pad_down), (pad_left, pad_right)]\n",
    "\n",
    "    return padding\n",
    "\n",
    "\n",
    "def get_device():\n",
    "    device = 'cpu'\n",
    "    if torch.cuda.is_available():\n",
    "        device = 'cuda'\n",
    "    elif torch.backends.mps.is_available():\n",
    "        device = 'mps'\n",
    "\n",
    "    return torch.device(device=device)"
   ]
  },
  {
   "attachments": {},
   "cell_type": "markdown",
   "metadata": {},
   "source": [
    "## Vesuvius Lightning"
   ]
  },
  {
   "cell_type": "code",
   "execution_count": 54,
   "metadata": {},
   "outputs": [],
   "source": [
    "import cv2\n",
    "\n",
    "import torch.nn as nn\n",
    "from torch.optim import AdamW\n",
    "import pytorch_lightning as pl\n",
    "\n",
    "from src.models.losses import BCEDiceWithLogitsLoss\n",
    "from src.models.metrics import F05Score\n",
    "from src.models.unet3d import Unet3d\n",
    "from src.models.efficienunetv2 import EfficientUNetV2_L, EfficientUNetV2_M, EfficientUNetV2_S\n",
    "\n",
    "import segmentation_models_pytorch as smp\n",
    "\n",
    "\n",
    "class LightningVesuvius(pl.LightningModule):\n",
    "    def __init__(self, model_name, model_params, learning_rate, bce_weight, dice_threshold):\n",
    "        super().__init__()\n",
    "\n",
    "        # Model\n",
    "        if model_name == 'UNet3D':\n",
    "            self.model = Unet3d(**model_params)\n",
    "        elif model_name == 'EfficientUNetV2_L':\n",
    "            self.model = EfficientUNetV2_L(**model_params)\n",
    "        elif model_name == 'EfficientUNetV2_M':\n",
    "            self.model = EfficientUNetV2_M(**model_params)\n",
    "        elif model_name == 'EfficientUNetV2_S':\n",
    "            self.model = EfficientUNetV2_S(**model_params)\n",
    "        elif model_name == 'efficientnet-b5':\n",
    "            self.model = smp.Unet(**model_params)\n",
    "\n",
    "        self.learning_rate = learning_rate\n",
    "        self.criterion = BCEDiceWithLogitsLoss(bce_weight=bce_weight, dice_threshold=dice_threshold)\n",
    "        self.metric = F05Score()\n",
    "        self.sigmoid = nn.Sigmoid()\n",
    "\n",
    "    def forward(self, inputs):\n",
    "        x = self.model(inputs)\n",
    "\n",
    "        return x\n",
    "\n",
    "    def training_step(self, batch, batch_idx):\n",
    "        _, _, masks, images = batch\n",
    "        outputs = self.forward(images)\n",
    "        loss = self.criterion(outputs, masks)\n",
    "        self.log('train/loss', loss, on_step=True, on_epoch=True)\n",
    "\n",
    "        return loss\n",
    "\n",
    "    def validation_step(self, batch, batch_idx):\n",
    "        _, _, masks, images = batch\n",
    "        outputs = self.forward(images)\n",
    "        # outputs = torch.squeeze(outputs, dim=1)\n",
    "        loss = self.criterion(outputs, masks)\n",
    "        self.log('val/loss', loss, on_epoch=True)\n",
    "        outputs = self.sigmoid(outputs)\n",
    "        self.metric.update(masks, outputs)\n",
    "\n",
    "        return loss\n",
    "\n",
    "    def on_validation_epoch_end(self) -> None:\n",
    "        sub_f05_threshold, sub_f05_score = self.metric.compute()\n",
    "\n",
    "        metrics = {\n",
    "            # 'val/f05_threshold': f05_threshold,\n",
    "            # 'val/f05_score': f05_score,\n",
    "            'val/sub_f05_threshold': sub_f05_threshold,\n",
    "            'val/sub_f05_score': sub_f05_score\n",
    "        }\n",
    "\n",
    "        self.log_dict(metrics, on_epoch=True)\n",
    "        # self.logger.log_image(key=\"val/inklabels_prediction\", images=[reconstructed_pred])\n",
    "\n",
    "        self.metric.reset()\n",
    "\n",
    "        return metrics\n",
    "\n",
    "    def configure_optimizers(self):\n",
    "        optimizer = AdamW(self.parameters(), lr=self.learning_rate)\n",
    "\n",
    "        return optimizer"
   ]
  },
  {
   "attachments": {},
   "cell_type": "markdown",
   "metadata": {},
   "source": [
    "## Vesuvius Dataset"
   ]
  },
  {
   "cell_type": "code",
   "execution_count": 77,
   "metadata": {},
   "outputs": [],
   "source": [
    "from tqdm import tqdm\n",
    "\n",
    "import torch\n",
    "import torch.nn as nn\n",
    "from torch.utils.data import Dataset\n",
    "from torchvision import transforms as T\n",
    "\n",
    "class DatasetVesuvius(Dataset):\n",
    "    def __init__(self, fragments, tile_size, num_slices, slices_list, start_slice, reverse_slices, selection_thr, augmentation, device, overlap):\n",
    "        self.fragments = fragments\n",
    "        self.tile_size = tile_size\n",
    "        self.num_slices = num_slices\n",
    "        self.slices_list = slices_list\n",
    "        self.start_slice = start_slice\n",
    "        self.reverse_slices = reverse_slices\n",
    "        self.selection_thr = selection_thr\n",
    "        self.augmentation = augmentation\n",
    "        self.device = device\n",
    "\n",
    "        self.overlap = overlap\n",
    "        self.set_path = TEST_FRAGMENTS_PATH\n",
    "        self.slices = self.make_slices()\n",
    "        self.data, self.items = self.make_data()\n",
    "\n",
    "        self.transforms = T.RandomApply(\n",
    "            nn.ModuleList([\n",
    "                T.RandomRotation(180),\n",
    "                T.RandomPerspective(),\n",
    "                T.ElasticTransform(alpha=500.0, sigma=10.0),\n",
    "                T.RandomHorizontalFlip(),\n",
    "                T.RandomVerticalFlip()\n",
    "            ]), p=0.5\n",
    "        )\n",
    "\n",
    "    def make_slices(self):\n",
    "        total_slices = 65\n",
    "        slices = [i for i in range(total_slices)]\n",
    "\n",
    "        if self.slices_list:\n",
    "            slices = self.slices_list\n",
    "        else:\n",
    "            slices = sorted(slices[self.start_slice:self.start_slice+self.num_slices], reverse=self.reverse_slices)\n",
    "\n",
    "        return slices\n",
    "\n",
    "    def make_mask(self, fragment_path):\n",
    "        mask_path = os.path.join(fragment_path, 'mask.png')\n",
    "        mask = cv2.imread(mask_path, cv2.IMREAD_GRAYSCALE)\n",
    "        shape = (self.num_slices, mask.shape[0], mask.shape[1])\n",
    "        padding = get_padding(mask.shape, self.tile_size)\n",
    "        mask_pad = np.pad(mask, padding)\n",
    "\n",
    "        return mask_pad, shape, padding\n",
    "\n",
    "    def make_image(self, fragment_path, shape, padding):\n",
    "        image = np.zeros(shape=shape, dtype=np.uint8)\n",
    "        slices_files = sorted(glob(os.path.join(fragment_path, 'surface_volume/*.tif')))\n",
    "        slices_path = [slices_files[i] for i in self.slices]\n",
    "\n",
    "        print(f'\\nMake image from {fragment_path}')\n",
    "        for i, slice_path in tqdm(enumerate(slices_path), total=len(slices_path)):\n",
    "            image[i, ...] = cv2.imread(slice_path, cv2.IMREAD_GRAYSCALE)\n",
    "\n",
    "        padding.insert(0, (0, 0))\n",
    "        image_pad = np.pad(image, padding)\n",
    "\n",
    "        return image_pad\n",
    "\n",
    "    def create_items(self, fragment, mask_pad):\n",
    "        items = []\n",
    "        overlap_size = int(self.overlap * self.tile_size)\n",
    "        x_list = np.arange(0, mask_pad.shape[1] - overlap_size, overlap_size).tolist()\n",
    "        y_list = np.arange(0, mask_pad.shape[0] - overlap_size, overlap_size).tolist()\n",
    "\n",
    "        for x in x_list:\n",
    "            for y in y_list:\n",
    "                bbox = torch.IntTensor([x, y, x + self.tile_size, y + self.tile_size])\n",
    "                x0, y0, x1, y1 = bbox\n",
    "                tile = mask_pad[y0:y1, x0:x1]\n",
    "\n",
    "                if tile.sum() / (255 * self.tile_size ** 2) >= self.selection_thr:\n",
    "                    items.append({'fragment': fragment, 'bbox': bbox})\n",
    "\n",
    "        return items\n",
    "\n",
    "    def make_data(self):\n",
    "        data = {}\n",
    "        items = []\n",
    "\n",
    "        for fragment in self.fragments:\n",
    "            fragment_path = os.path.join(self.set_path, str(fragment))\n",
    "            mask_pad, shape, padding = self.make_mask(fragment_path)\n",
    "            image_pad = self.make_image(fragment_path, shape, padding)\n",
    "            items += self.create_items(fragment, mask_pad)\n",
    "\n",
    "            data[fragment] = {\n",
    "                'image': torch.from_numpy(image_pad).to(self.device)\n",
    "            }\n",
    "\n",
    "        return data, items\n",
    "\n",
    "    def __len__(self):\n",
    "        return len(self.items)\n",
    "\n",
    "    def __getitem__(self, idx):\n",
    "        fragment, bbox = self.items[idx]['fragment'], self.items[idx]['bbox']\n",
    "        x0, y0, x1, y1 = bbox\n",
    "        image = self.data[fragment]['image'][:, y0:y1, x0:x1] / 255.0\n",
    "\n",
    "        return fragment, bbox, image\n"
   ]
  },
  {
   "attachments": {},
   "cell_type": "markdown",
   "metadata": {},
   "source": [
    "## Vesuvius Prediction"
   ]
  },
  {
   "attachments": {},
   "cell_type": "markdown",
   "metadata": {},
   "source": [
    "Calcul weight for each kfold models"
   ]
  },
  {
   "cell_type": "code",
   "execution_count": 49,
   "metadata": {},
   "outputs": [
    {
     "data": {
      "text/plain": [
       "start_slice\n",
       "0     0.153861\n",
       "8     0.154643\n",
       "16    0.172690\n",
       "24    0.184504\n",
       "32    0.180550\n",
       "40    0.153751\n",
       "Name: val/sub_f05_score, dtype: float64"
      ]
     },
     "metadata": {},
     "output_type": "display_data"
    },
    {
     "data": {
      "text/plain": [
       "1.0000000000000002"
      ]
     },
     "execution_count": 49,
     "metadata": {},
     "output_type": "execute_result"
    }
   ],
   "source": [
    "df_weight = df.groupby('start_slice')['val/sub_f05_score'].mean()\n",
    "df_weight /= df_weight.sum()\n",
    "display(df_weight)\n",
    "df_weight.sum()"
   ]
  },
  {
   "attachments": {},
   "cell_type": "markdown",
   "metadata": {},
   "source": [
    "Get dataset parameters for a given cross validation"
   ]
  },
  {
   "cell_type": "code",
   "execution_count": 63,
   "metadata": {},
   "outputs": [
    {
     "data": {
      "text/plain": [
       "{'fragments': ['a', 'b'],\n",
       " 'tile_size': 256,\n",
       " 'num_slices': 16,\n",
       " 'start_slice': 16,\n",
       " 'reverse_slices': False,\n",
       " 'selection_thr': 0,\n",
       " 'augmentation': False,\n",
       " 'device': device(type='mps'),\n",
       " 'overlap': 0.5}"
      ]
     },
     "execution_count": 63,
     "metadata": {},
     "output_type": "execute_result"
    }
   ],
   "source": [
    "def get_dataset_parameters(start_slice, df):\n",
    "    device = get_device()\n",
    "    dataset_params = {\n",
    "        \"fragments\": ['a', 'b'],\n",
    "        \"tile_size\": df['tile_size'][0],\n",
    "        \"num_slices\": df['num_slices'][0],\n",
    "        \"start_slice\": start_slice,\n",
    "        \"reverse_slices\": df['reverse_slices'][0],\n",
    "        \"selection_thr\": 0,\n",
    "        \"augmentation\": False,\n",
    "        \"device\": device,\n",
    "        \"overlap\": 0.5,\n",
    "    }\n",
    "    return dataset_params\n",
    "\n",
    "get_dataset_parameters(16, df)"
   ]
  },
  {
   "cell_type": "code",
   "execution_count": 39,
   "metadata": {},
   "outputs": [
    {
     "data": {
      "text/plain": [
       "'../models/vibrant-sweep-17-u21mnb2m-32-16-3.ckpt'"
      ]
     },
     "execution_count": 39,
     "metadata": {},
     "output_type": "execute_result"
    }
   ],
   "source": [
    "def find_checkpoint(id):\n",
    "    return glob(join(os.pardir, MODELS_DIR, f'*{id}*.ckpt'))[0]\n",
    "\n",
    "find_checkpoint('u21mnb2m')"
   ]
  },
  {
   "attachments": {},
   "cell_type": "markdown",
   "metadata": {},
   "source": [
    "Get lightning model parameters"
   ]
  },
  {
   "cell_type": "code",
   "execution_count": 45,
   "metadata": {},
   "outputs": [
    {
     "data": {
      "text/plain": [
       "{'model_name': 'efficientnet-b5',\n",
       " 'model_params': {'in_channels': 16,\n",
       "  'encoder_weights': 'imagenet',\n",
       "  'classes': 1},\n",
       " 'learning_rate': 0.0001,\n",
       " 'bce_weight': 0.5,\n",
       " 'dice_threshold': 0.5}"
      ]
     },
     "execution_count": 45,
     "metadata": {},
     "output_type": "execute_result"
    }
   ],
   "source": [
    "def get_lightning_parameters(id, df):\n",
    "    lightning_params = {\n",
    "        \"model_name\":  'efficientnet-b5',\n",
    "        \"model_params\":  {\n",
    "            \"in_channels\": df.loc[id, 'num_slices'],\n",
    "            \"encoder_weights\": df.loc[id, 'encoder_weights'],\n",
    "            \"classes\": 1\n",
    "        },\n",
    "        \"learning_rate\":  df.loc[id, 'learning_rate'],\n",
    "        \"bce_weight\":  df.loc[id, 'bce_weight'],\n",
    "        \"dice_threshold\":  df.loc[id, 'dice_threshold'],    \n",
    "    }\n",
    "\n",
    "    return lightning_params\n",
    "\n",
    "get_lightning_parameters('u21mnb2m', df)"
   ]
  },
  {
   "cell_type": "code",
   "execution_count": null,
   "metadata": {},
   "outputs": [],
   "source": [
    "def get_blank_masks(dataset: DatasetVesuvius):\n",
    "    blank_masks = {fragment_id: {} for fragment_id in dataset.fragments}\n",
    "    \n",
    "    for fragment_id in dataset.fragments:\n",
    "        inklabels_shape = get_fragment_shape(dataset.set_path, fragment_id, dataset.tile_size)\n",
    "        blank_masks[fragment_id]['inklabels'] = torch.zeros(inklabels_shape).to(device=dataset.device)\n",
    "        blank_masks[fragment_id]['count_map'] = torch.zeros(inklabels_shape).to(device=dataset.device)\n",
    "    \n",
    "    return blank_masks"
   ]
  },
  {
   "cell_type": "code",
   "execution_count": null,
   "metadata": {},
   "outputs": [],
   "source": [
    "def add_inklabels(masks, fragment_id, bbox, inklabels):\n",
    "    x0, y0, x1, y1 = bbox\n",
    "    masks[fragment_id]['inklabels'][y0:y1, x0:x1] += inklabels\n",
    "    masks[fragment_id]['count_map'][y0:y1, x0:x1] += 1\n",
    "    return masks"
   ]
  },
  {
   "cell_type": "code",
   "execution_count": null,
   "metadata": {},
   "outputs": [],
   "source": [
    "def make_sub_prediction(dataset: DatasetVesuvius, model, weight):\n",
    "    masks = get_blank_masks(dataset.fragments)\n",
    "    sigmoid = torch.nn.Sigmoid()\n",
    "    model.eval()\n",
    "    \n",
    "    for fragment_id, bbox, image in dataset:\n",
    "        sub_inklabels = model(image)\n",
    "        sub_inklabels = sigmoid(sub_inklabels)\n",
    "        masks = add_inklabels(masks, fragment_id, bbox, sub_inklabels)\n",
    "    \n",
    "    inklabels = {}\n",
    "    for fragment_id in dataset.fragments:\n",
    "        inklabels[fragment_id] = masks[fragment_id]['inklabels'] / masks[fragment_id]['count_map']\n",
    "        inklabels[fragment_id] = torch.nan_to_num(inklabels[fragment_id], nan=0)\n",
    "        inklabels[fragment_id] /= weight\n",
    "    \n",
    "    return inklabels"
   ]
  },
  {
   "cell_type": "code",
   "execution_count": null,
   "metadata": {},
   "outputs": [],
   "source": [
    "def get_blank_inklabels(fragments, fragment_path):\n",
    "    blank_inklabels = {}\n",
    "    \n",
    "    for fragment_id in fragments:\n",
    "        blank_inklabels[fragment_id] = cv2.imread(join(os.pardir, fragment_path, fragment_id, 'mask.png'))\n",
    "    \n",
    "    return blank_inklabels\n",
    "\n",
    "masks = get_blank_inklabels(['a', 'b'], TEST_FRAGMENTS_PATH)\n",
    "masks['']"
   ]
  },
  {
   "cell_type": "code",
   "execution_count": 46,
   "metadata": {},
   "outputs": [],
   "source": [
    "model = None\n",
    "model_temoins = None\n",
    "\n",
    "inklabels_shape = {get_fragment_shape(TEST_FRAGMENTS_PATH, fragment_id, df['tile_size'][0])}\n",
    "inklabels = {fragment_id: torch.zeros(inklabels_shape).to(device=dataset.device)}\n",
    "\n",
    "for start_slice in df_weight.items():\n",
    "    dataset_params = get_dataset_parameters(start_slice, df)\n",
    "    dataset = DatasetVesuvius(**dataset_params)\n",
    "    \n",
    "    for run_id in df.index.to_numpy():\n",
    "        torch.cuda.empty_cache()\n",
    "        \n",
    "        lightning_params = get_lightning_parameters(run_id, df)\n",
    "        model_ligthning = LightningVesuvius(**lightning_params)\n",
    "        \n",
    "        model_path = find_checkpoint(run_id)\n",
    "        model_ligthning.load_from_checkpoint(\n",
    "            model_path, \n",
    "            map_location='cpu',\n",
    "            **lightning_params\n",
    "        )\n",
    "        model_pytorch = model_ligthning.model\n",
    "        \n",
    "        sub_inklabels = make_sub_prediction(dataset, model_pytorch)\n",
    "        \n",
    "        for fragment_id in dataset.fragments:\n",
    "            inklabels[fragment_id] += sub_inklabels[fragment_id]\n",
    "        break\n",
    "    break"
   ]
  }
 ],
 "metadata": {
  "kernelspec": {
   "display_name": "vesuvius-challenge-ink-detection-env",
   "language": "python",
   "name": "python3"
  },
  "language_info": {
   "codemirror_mode": {
    "name": "ipython",
    "version": 3
   },
   "file_extension": ".py",
   "mimetype": "text/x-python",
   "name": "python",
   "nbconvert_exporter": "python",
   "pygments_lexer": "ipython3",
   "version": "3.8.16"
  },
  "orig_nbformat": 4
 },
 "nbformat": 4,
 "nbformat_minor": 2
}
