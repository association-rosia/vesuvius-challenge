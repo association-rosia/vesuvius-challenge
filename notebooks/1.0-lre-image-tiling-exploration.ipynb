{
 "cells": [
  {
   "cell_type": "code",
   "execution_count": null,
   "id": "5c7d8272",
   "metadata": {},
   "outputs": [],
   "source": [
    "from matplotlib import pyplot as plt\n",
    "from tiler import Tiler, Merger\n",
    "import numpy as np\n",
    "import cv2\n",
    "import random"
   ]
  },
  {
   "cell_type": "code",
   "execution_count": null,
   "id": "38929d51",
   "metadata": {},
   "outputs": [],
   "source": [
    "image_path = '../data/raw/train/1/inklabels.png' # inklabels.png or mask.png\n",
    "tile_size = 256"
   ]
  },
  {
   "cell_type": "code",
   "execution_count": null,
   "id": "faa8ca54",
   "metadata": {},
   "outputs": [],
   "source": [
    "image = cv2.imread(image_path, cv2.IMREAD_GRAYSCALE)\n",
    "image = np.expand_dims(image, axis=2)\n",
    "plt.imshow(image)"
   ]
  },
  {
   "cell_type": "code",
   "execution_count": null,
   "id": "e47298f0",
   "metadata": {},
   "outputs": [],
   "source": [
    "def rotate_image(image, angle):\n",
    "    image_center = tuple(np.array(image.shape[1::-1]) / 2)\n",
    "    rot_mat = cv2.getRotationMatrix2D(image_center, angle, 1.0)\n",
    "    result = cv2.warpAffine(image, rot_mat, image.shape[1::-1], flags=cv2.INTER_LINEAR)\n",
    "    return result"
   ]
  },
  {
   "cell_type": "code",
   "execution_count": null,
   "id": "cb38a029",
   "metadata": {},
   "outputs": [],
   "source": [
    "tiler = Tiler(data_shape=image.shape,\n",
    "              tile_shape=(tile_size, tile_size, 3),\n",
    "              overlap=0.5,\n",
    "              channel_dimension=2)\n",
    "\n",
    "new_shape, padding = tiler.calculate_padding()\n",
    "tiler.recalculate(data_shape=new_shape)\n",
    "padded_image = np.pad(image, padding)\n",
    "\n",
    "merger = Merger(tiler, window='triang')\n",
    "\n",
    "# for tile_id, tile in tiler(padded_image):\n",
    "#     plt.figure()\n",
    "#     plt.imshow(tile)\n",
    "\n",
    "for tile_id, tile in tiler(padded_image):\n",
    "    angle = random.randint(0, 180)\n",
    "    tile = rotate_image(tile, angle)\n",
    "    merger.add(tile_id, tile)"
   ]
  },
  {
   "cell_type": "code",
   "execution_count": null,
   "id": "94a548b2",
   "metadata": {},
   "outputs": [],
   "source": [
    "merged_image = merger.merge(extra_padding=padding)\n",
    "plt.imshow(merged_image)"
   ]
  }
 ],
 "metadata": {
  "kernelspec": {
   "display_name": "vesuvius-challenge-ink-detection-env",
   "language": "python",
   "name": "vesuvius-challenge-ink-detection-env"
  },
  "language_info": {
   "codemirror_mode": {
    "name": "ipython",
    "version": 3
   },
   "file_extension": ".py",
   "mimetype": "text/x-python",
   "name": "python",
   "nbconvert_exporter": "python",
   "pygments_lexer": "ipython3",
   "version": "3.8.16"
  }
 },
 "nbformat": 4,
 "nbformat_minor": 5
}
