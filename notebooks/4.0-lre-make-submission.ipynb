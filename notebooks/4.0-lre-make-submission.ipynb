{
 "cells": [
  {
   "cell_type": "code",
   "execution_count": 1,
   "id": "337d22b6",
   "metadata": {},
   "outputs": [],
   "source": [
    "import os\n",
    "import sys\n",
    "from pathlib import Path\n",
    "root = str(Path(os.path.abspath(os.path.curdir)).parent)\n",
    "sys.path.insert(1, root)\n",
    "\n",
    "import numpy as np\n",
    "import cv2\n",
    "from constant import TEST_FRAGMENTS_PATH"
   ]
  },
  {
   "cell_type": "code",
   "execution_count": 2,
   "id": "659f18c2",
   "metadata": {},
   "outputs": [],
   "source": [
    "pred_images = []\n",
    "fragments = [f for f in os.listdir(TEST_FRAGMENTS_PATH) if f != '.DS_Store']\n",
    "\n",
    "for fragment in fragments:\n",
    "    mask_path = os.path.join(TEST_FRAGMENTS_PATH, fragment, 'mask.png')\n",
    "    x, y = cv2.imread(mask_path, cv2.IMREAD_GRAYSCALE).shape\n",
    "    pred_image = np.random.rand(x, y)\n",
    "    pred_images.append(pred_image)"
   ]
  },
  {
   "cell_type": "code",
   "execution_count": 3,
   "id": "70ce30e9",
   "metadata": {},
   "outputs": [],
   "source": [
    "def rle(output, threshold):\n",
    "    print('1')\n",
    "    flat_img = output.flatten()\n",
    "    print('2')\n",
    "    flat_img = np.where(flat_img > threshold, 1, 0).astype(np.uint8)\n",
    "    print('3')\n",
    "    starts = np.array((flat_img[:-1] == 0) & (flat_img[1:] == 1))\n",
    "    print('4')\n",
    "    ends = np.array((flat_img[:-1] == 1) & (flat_img[1:] == 0))\n",
    "    print('5')\n",
    "    starts_ix = np.where(starts)[0] + 2\n",
    "    print('6')\n",
    "    ends_ix = np.where(ends)[0] + 2\n",
    "    print('7')\n",
    "    lengths = ends_ix - starts_ix\n",
    "    print('8')\n",
    "    return ' '.join(map(str, sum(zip(starts_ix, lengths), ())))"
   ]
  },
  {
   "cell_type": "code",
   "execution_count": null,
   "id": "a13e21c7",
   "metadata": {},
   "outputs": [],
   "source": [
    "pred = rle(pred_images[0], threshold=0.8)"
   ]
  },
  {
   "cell_type": "code",
   "execution_count": null,
   "id": "3422f208",
   "metadata": {},
   "outputs": [],
   "source": []
  }
 ],
 "metadata": {
  "kernelspec": {
   "display_name": "vesuvius-challenge-ink-detection-env",
   "language": "python",
   "name": "vesuvius-challenge-ink-detection-env"
  },
  "language_info": {
   "codemirror_mode": {
    "name": "ipython",
    "version": 3
   },
   "file_extension": ".py",
   "mimetype": "text/x-python",
   "name": "python",
   "nbconvert_exporter": "python",
   "pygments_lexer": "ipython3",
   "version": "3.8.16"
  }
 },
 "nbformat": 4,
 "nbformat_minor": 5
}
