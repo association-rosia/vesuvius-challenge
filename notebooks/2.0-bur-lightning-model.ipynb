{
 "cells": [
  {
   "attachments": {},
   "cell_type": "markdown",
   "metadata": {},
   "source": [
    "# Test for Models module"
   ]
  },
  {
   "attachments": {},
   "cell_type": "markdown",
   "metadata": {},
   "source": [
    "## Librarie"
   ]
  },
  {
   "cell_type": "code",
   "execution_count": 15,
   "metadata": {},
   "outputs": [],
   "source": [
    "import os, sys\n",
    "\n",
    "sys.path.insert(0, os.pardir)\n",
    "\n",
    "import torch\n",
    "from torch import nn\n",
    "import numpy as np\n",
    "\n",
    "from src.models.unet3d import Unet3d\n",
    "from constant import TILE_SIZE"
   ]
  },
  {
   "attachments": {},
   "cell_type": "markdown",
   "metadata": {},
   "source": [
    "## Model"
   ]
  },
  {
   "attachments": {},
   "cell_type": "markdown",
   "metadata": {},
   "source": [
    "### Try Half precision"
   ]
  },
  {
   "cell_type": "code",
   "execution_count": 16,
   "metadata": {},
   "outputs": [
    {
     "name": "stdout",
     "output_type": "stream",
     "text": [
      "\"compute_columns3d\" not implemented for 'Half'\n"
     ]
    }
   ],
   "source": [
    "try:\n",
    "    c = nn.Conv3d(1, 32, 3).half()\n",
    "    inputs = torch.randn(8, 1, 8, 256, 256).half()\n",
    "    outputs = c(inputs)\n",
    "    display(inputs.shape)\n",
    "    display(outputs.shape)\n",
    "except Exception as e:\n",
    "    print(e)"
   ]
  },
  {
   "attachments": {},
   "cell_type": "markdown",
   "metadata": {},
   "source": [
    "### Try on GPU"
   ]
  },
  {
   "cell_type": "code",
   "execution_count": 17,
   "metadata": {},
   "outputs": [
    {
     "name": "stdout",
     "output_type": "stream",
     "text": [
      "Conv3D is not supported on MPS\n"
     ]
    }
   ],
   "source": [
    "device = torch.device('cuda' if torch.cuda.is_available() else 'mps' if torch.backends.mps.is_available() else 'cpu')\n",
    "try:\n",
    "    c = nn.Conv3d(1, 32, 3).to(device=device)\n",
    "    inputs = torch.randn(8, 1, 8, 256, 256).to(device=device)\n",
    "    outputs = c(inputs)\n",
    "    display(inputs.shape)\n",
    "    display(outputs.shape)\n",
    "except Exception as e:\n",
    "    print(e)"
   ]
  },
  {
   "attachments": {},
   "cell_type": "markdown",
   "metadata": {},
   "source": [
    "### From 3D Images To 2D Mask"
   ]
  },
  {
   "attachments": {},
   "cell_type": "markdown",
   "metadata": {},
   "source": [
    "#### Max Pooling 3D"
   ]
  },
  {
   "cell_type": "code",
   "execution_count": 18,
   "metadata": {},
   "outputs": [
    {
     "data": {
      "text/plain": [
       "torch.Size([8, 1, 64, 256, 256])"
      ]
     },
     "metadata": {},
     "output_type": "display_data"
    },
    {
     "data": {
      "text/plain": [
       "torch.Size([8, 1, 1, 256, 256])"
      ]
     },
     "metadata": {},
     "output_type": "display_data"
    }
   ],
   "source": [
    "# pool of non-square window\n",
    "m = nn.AdaptiveMaxPool3d((1, 256, 256))\n",
    "inputs = torch.randn(8, 1, 64, 256, 256)\n",
    "outputs = m(inputs)\n",
    "\n",
    "display(inputs.shape)\n",
    "display(outputs.shape)"
   ]
  },
  {
   "attachments": {},
   "cell_type": "markdown",
   "metadata": {},
   "source": [
    "#### Linear "
   ]
  },
  {
   "cell_type": "code",
   "execution_count": 19,
   "metadata": {},
   "outputs": [
    {
     "data": {
      "text/plain": [
       "torch.Size([128, 20])"
      ]
     },
     "metadata": {},
     "output_type": "display_data"
    },
    {
     "data": {
      "text/plain": [
       "torch.Size([128, 30])"
      ]
     },
     "metadata": {},
     "output_type": "display_data"
    }
   ],
   "source": [
    "m = nn.Linear(20, 30)\n",
    "input = torch.randn(128, 20)\n",
    "output = m(input)\n",
    "display(input.shape)\n",
    "display(output.size())"
   ]
  },
  {
   "cell_type": "code",
   "execution_count": 20,
   "metadata": {},
   "outputs": [
    {
     "data": {
      "text/plain": [
       "torch.Size([32, 1, 5, 5])"
      ]
     },
     "metadata": {},
     "output_type": "display_data"
    },
    {
     "data": {
      "text/plain": [
       "torch.Size([32, 25])"
      ]
     },
     "metadata": {},
     "output_type": "display_data"
    },
    {
     "data": {
      "text/plain": [
       "torch.Size([160, 5])"
      ]
     },
     "metadata": {},
     "output_type": "display_data"
    }
   ],
   "source": [
    "input = torch.randn(32, 1, 5, 5)\n",
    "display(input.shape)\n",
    "# With default parameters\n",
    "m = nn.Flatten()\n",
    "output = m(input)\n",
    "display(output.size())\n",
    "# With non-default parameters\n",
    "m = nn.Flatten(0, 2)\n",
    "output = m(input)\n",
    "display(output.size())"
   ]
  },
  {
   "cell_type": "code",
   "execution_count": 21,
   "metadata": {},
   "outputs": [],
   "source": [
    "inputs = torch.randn(8, 1, 8, TILE_SIZE, TILE_SIZE)"
   ]
  },
  {
   "attachments": {},
   "cell_type": "markdown",
   "metadata": {},
   "source": [
    "### UNet3D"
   ]
  },
  {
   "cell_type": "code",
   "execution_count": 22,
   "metadata": {},
   "outputs": [],
   "source": [
    "# UNet3D = Unet3d(1,TILE_SIZE)\n",
    "# UNet3D(inputs)"
   ]
  },
  {
   "attachments": {},
   "cell_type": "markdown",
   "metadata": {},
   "source": [
    "# Pytorch-Lightning"
   ]
  },
  {
   "attachments": {},
   "cell_type": "markdown",
   "metadata": {},
   "source": [
    "## Metrics"
   ]
  },
  {
   "cell_type": "code",
   "execution_count": 23,
   "metadata": {},
   "outputs": [
    {
     "data": {
      "text/plain": [
       "tensor(1.)"
      ]
     },
     "execution_count": 23,
     "metadata": {},
     "output_type": "execute_result"
    }
   ],
   "source": [
    "from torchmetrics.classification import BinaryFBetaScore\n",
    "\n",
    "threshold = .5\n",
    "f05score = BinaryFBetaScore(0.5, threshold)\n",
    "targets = torch.randint(0, 2, (8000,1))\n",
    "predictions = torch.randint(0, 2, (8000,1))\n",
    "f05score(targets, targets)"
   ]
  },
  {
   "cell_type": "code",
   "execution_count": 24,
   "metadata": {},
   "outputs": [
    {
     "name": "stdout",
     "output_type": "stream",
     "text": [
      "\n",
      "Make image from ../data/raw/train/1\n"
     ]
    },
    {
     "name": "stderr",
     "output_type": "stream",
     "text": [
      "100%|██████████| 2/2 [00:00<00:00,  4.76it/s]\n"
     ]
    }
   ],
   "source": [
    "import os, sys\n",
    "\n",
    "sys.path.insert(0, os.pardir)\n",
    "\n",
    "from src.data.make_dataset import DatasetVesuvius\n",
    "from src.models.metrics import F05Score\n",
    "from constant import TRAIN_FRAGMENTS\n",
    "from torch.utils.data import DataLoader\n",
    "from src.utils import get_device\n",
    "from src.utils import get_fragments_shape\n",
    "\n",
    "device = torch.device('cpu')\n",
    "dataset = DatasetVesuvius(\n",
    "        fragments=['1'],\n",
    "        tile_size=TILE_SIZE,\n",
    "        num_slices=2,\n",
    "        random_slices=False,\n",
    "        selection_thr=0.,\n",
    "        augmentation=False,\n",
    "        device=device\n",
    "    )\n",
    "dataloader = DataLoader(dataset=dataset, batch_size=64, drop_last=True)\n",
    "mask_sizes = get_fragments_shape(['1'], TILE_SIZE)\n",
    "metric = F05Score(mask_sizes).to(device=device)\n",
    "metric_noise = F05Score(mask_sizes).to(device=device)"
   ]
  },
  {
   "cell_type": "code",
   "execution_count": 25,
   "metadata": {},
   "outputs": [
    {
     "ename": "RuntimeError",
     "evalue": "The size of tensor a (186) must match the size of tensor b (256) at non-singleton dimension 1",
     "output_type": "error",
     "traceback": [
      "\u001b[0;31m---------------------------------------------------------------------------\u001b[0m",
      "\u001b[0;31mRuntimeError\u001b[0m                              Traceback (most recent call last)",
      "Cell \u001b[0;32mIn[25], line 19\u001b[0m\n\u001b[1;32m     15\u001b[0m     metric_noise\u001b[39m.\u001b[39mupdate(fragment, bbox, mask, outputs)\n\u001b[1;32m     16\u001b[0m     \u001b[39m# if i > 10:\u001b[39;00m\n\u001b[1;32m     17\u001b[0m     \u001b[39m# break\u001b[39;00m\n\u001b[0;32m---> 19\u001b[0m \u001b[39mprint\u001b[39m(\u001b[39m'\u001b[39m\u001b[39mPerfect F05Score:\u001b[39m\u001b[39m'\u001b[39m, metric\u001b[39m.\u001b[39;49mcompute())\n\u001b[1;32m     20\u001b[0m \u001b[39mprint\u001b[39m(\u001b[39m'\u001b[39m\u001b[39mNoisy F05Score:\u001b[39m\u001b[39m'\u001b[39m, metric_noise\u001b[39m.\u001b[39mcompute())\n",
      "File \u001b[0;32m/opt/homebrew/Caskroom/miniconda/base/envs/vesuvius-challenge-ink-detection-env/lib/python3.8/site-packages/torchmetrics/metric.py:532\u001b[0m, in \u001b[0;36mMetric._wrap_compute.<locals>.wrapped_func\u001b[0;34m(*args, **kwargs)\u001b[0m\n\u001b[1;32m    524\u001b[0m \u001b[39m# compute relies on the sync context manager to gather the states across processes and apply reduction\u001b[39;00m\n\u001b[1;32m    525\u001b[0m \u001b[39m# if synchronization happened, the current rank accumulated states will be restored to keep\u001b[39;00m\n\u001b[1;32m    526\u001b[0m \u001b[39m# accumulation going if ``should_unsync=True``,\u001b[39;00m\n\u001b[1;32m    527\u001b[0m \u001b[39mwith\u001b[39;00m \u001b[39mself\u001b[39m\u001b[39m.\u001b[39msync_context(\n\u001b[1;32m    528\u001b[0m     dist_sync_fn\u001b[39m=\u001b[39m\u001b[39mself\u001b[39m\u001b[39m.\u001b[39mdist_sync_fn,\n\u001b[1;32m    529\u001b[0m     should_sync\u001b[39m=\u001b[39m\u001b[39mself\u001b[39m\u001b[39m.\u001b[39m_to_sync,\n\u001b[1;32m    530\u001b[0m     should_unsync\u001b[39m=\u001b[39m\u001b[39mself\u001b[39m\u001b[39m.\u001b[39m_should_unsync,\n\u001b[1;32m    531\u001b[0m ):\n\u001b[0;32m--> 532\u001b[0m     value \u001b[39m=\u001b[39m compute(\u001b[39m*\u001b[39;49margs, \u001b[39m*\u001b[39;49m\u001b[39m*\u001b[39;49mkwargs)\n\u001b[1;32m    533\u001b[0m     \u001b[39mself\u001b[39m\u001b[39m.\u001b[39m_computed \u001b[39m=\u001b[39m _squeeze_if_scalar(value)\n\u001b[1;32m    535\u001b[0m \u001b[39mreturn\u001b[39;00m \u001b[39mself\u001b[39m\u001b[39m.\u001b[39m_computed\n",
      "File \u001b[0;32m~/Documents/vesuvius-challenge-ink-detection/notebooks/../src/models/metrics.py:44\u001b[0m, in \u001b[0;36mF05Score.compute\u001b[0;34m(self)\u001b[0m\n\u001b[1;32m     41\u001b[0m bboxes \u001b[39m=\u001b[39m torch\u001b[39m.\u001b[39mcat(\u001b[39mself\u001b[39m\u001b[39m.\u001b[39mbboxes, dim\u001b[39m=\u001b[39m\u001b[39m0\u001b[39m)\n\u001b[1;32m     43\u001b[0m padding \u001b[39m=\u001b[39m TILE_SIZE \u001b[39m/\u001b[39m\u001b[39m/\u001b[39m \u001b[39m4\u001b[39m\n\u001b[0;32m---> 44\u001b[0m reconstructed_preds \u001b[39m=\u001b[39m reconstruct_images(preds, bboxes, \u001b[39mself\u001b[39;49m\u001b[39m.\u001b[39;49mfragments, \u001b[39mself\u001b[39;49m\u001b[39m.\u001b[39;49mfragments_shape, padding)\n\u001b[1;32m     46\u001b[0m vector_preds \u001b[39m=\u001b[39m torch\u001b[39m.\u001b[39mFloatTensor()\u001b[39m.\u001b[39mto(device\u001b[39m=\u001b[39m\u001b[39mself\u001b[39m\u001b[39m.\u001b[39mdevice)\n\u001b[1;32m     47\u001b[0m vector_target \u001b[39m=\u001b[39m torch\u001b[39m.\u001b[39mFloatTensor()\u001b[39m.\u001b[39mto(device\u001b[39m=\u001b[39m\u001b[39mself\u001b[39m\u001b[39m.\u001b[39mdevice)\n",
      "File \u001b[0;32m~/Documents/vesuvius-challenge-ink-detection/notebooks/../src/utils.py:27\u001b[0m, in \u001b[0;36mreconstruct_images\u001b[0;34m(tiles, bboxes, fragments, fragments_shape, padding)\u001b[0m\n\u001b[1;32m     25\u001b[0m \u001b[39mfor\u001b[39;00m i \u001b[39min\u001b[39;00m \u001b[39mrange\u001b[39m(tiles\u001b[39m.\u001b[39mshape[\u001b[39m0\u001b[39m]):\n\u001b[1;32m     26\u001b[0m     x0, y0, x1, y1 \u001b[39m=\u001b[39m bboxes[i]\n\u001b[0;32m---> 27\u001b[0m     reconstructed_images[fragments[i]][x0:x1, y0:y1] \u001b[39m+\u001b[39m\u001b[39m=\u001b[39m tiles[i, :, :]\n\u001b[1;32m     28\u001b[0m     count_map[fragments[i]][x0:x1, y0:y1] \u001b[39m+\u001b[39m\u001b[39m=\u001b[39m \u001b[39m1\u001b[39m\n\u001b[1;32m     30\u001b[0m \u001b[39m# Divide by the count map to obtain the mean value\u001b[39;00m\n",
      "\u001b[0;31mRuntimeError\u001b[0m: The size of tensor a (186) must match the size of tensor b (256) at non-singleton dimension 1"
     ]
    }
   ],
   "source": [
    "import torch\n",
    "import numpy as np\n",
    "\n",
    "metric.reset()\n",
    "metric_noise.reset()\n",
    "\n",
    "for i, (fragment, bbox, mask, _) in enumerate(dataloader):\n",
    "    # This metric have to give a score of 1\n",
    "    mask = torch.squeeze(mask)\n",
    "    metric.update(fragment, bbox, mask, mask)\n",
    "    # print(len(fragment), bbox.shape, mask.shape)\n",
    "    outputs = torch.tensor(np.zeros(mask.shape, np.int16))\n",
    "    # print(outputs.shape)\n",
    "    # # This metric have to give a score of ~0.5\n",
    "    metric_noise.update(fragment, bbox, mask, outputs)\n",
    "    # if i > 10:\n",
    "    # break\n",
    "\n",
    "print('Perfect F05Score:', metric.compute())\n",
    "print('Noisy F05Score:', metric_noise.compute())"
   ]
  },
  {
   "attachments": {},
   "cell_type": "markdown",
   "metadata": {},
   "source": [
    "## Losses"
   ]
  },
  {
   "cell_type": "code",
   "execution_count": null,
   "metadata": {},
   "outputs": [
    {
     "ename": "ImportError",
     "evalue": "cannot import name 'CustomDataset' from 'src.data.make_dataset' (/Users/titou/Documents/vesuvius-challenge-ink-detection/notebooks/../src/data/make_dataset.py)",
     "output_type": "error",
     "traceback": [
      "\u001b[0;31m---------------------------------------------------------------------------\u001b[0m",
      "\u001b[0;31mImportError\u001b[0m                               Traceback (most recent call last)",
      "Cell \u001b[0;32mIn[12], line 5\u001b[0m\n\u001b[1;32m      1\u001b[0m \u001b[39mimport\u001b[39;00m \u001b[39mos\u001b[39;00m\u001b[39m,\u001b[39m \u001b[39msys\u001b[39;00m\n\u001b[1;32m      3\u001b[0m sys\u001b[39m.\u001b[39mpath\u001b[39m.\u001b[39minsert(\u001b[39m0\u001b[39m, os\u001b[39m.\u001b[39mpardir)\n\u001b[0;32m----> 5\u001b[0m \u001b[39mfrom\u001b[39;00m \u001b[39msrc\u001b[39;00m\u001b[39m.\u001b[39;00m\u001b[39mdata\u001b[39;00m\u001b[39m.\u001b[39;00m\u001b[39mmake_dataset\u001b[39;00m \u001b[39mimport\u001b[39;00m CustomDataset\n\u001b[1;32m      6\u001b[0m \u001b[39mfrom\u001b[39;00m \u001b[39mtorch\u001b[39;00m\u001b[39m.\u001b[39;00m\u001b[39mutils\u001b[39;00m\u001b[39m.\u001b[39;00m\u001b[39mdata\u001b[39;00m \u001b[39mimport\u001b[39;00m DataLoader\n\u001b[1;32m      7\u001b[0m \u001b[39mfrom\u001b[39;00m \u001b[39msrc\u001b[39;00m\u001b[39m.\u001b[39;00m\u001b[39mutils\u001b[39;00m \u001b[39mimport\u001b[39;00m get_device\n",
      "\u001b[0;31mImportError\u001b[0m: cannot import name 'CustomDataset' from 'src.data.make_dataset' (/Users/titou/Documents/vesuvius-challenge-ink-detection/notebooks/../src/data/make_dataset.py)"
     ]
    }
   ],
   "source": [
    "import os, sys\n",
    "\n",
    "sys.path.insert(0, os.pardir)\n",
    "\n",
    "from src.data.make_dataset import CustomDataset\n",
    "from torch.utils.data import DataLoader\n",
    "from src.utils import get_device\n",
    "\n",
    "device = get_device()\n",
    "from src.models.losses import CombinedLoss\n",
    "\n",
    "dataset = CustomDataset(['1'], augmentation=False)\n",
    "dataloader = DataLoader(dataset=dataset, batch_size=128)\n",
    "criterion = CombinedLoss(bce_weight=1)"
   ]
  },
  {
   "cell_type": "code",
   "execution_count": null,
   "metadata": {},
   "outputs": [
    {
     "name": "stdout",
     "output_type": "stream",
     "text": [
      "tensor(29.4795, device='mps:0')\n"
     ]
    }
   ],
   "source": [
    "import torch\n",
    "from torch.nn import BCELoss\n",
    "import numpy as np\n",
    "\n",
    "for i, (indexes, inputs, masks, coords) in enumerate(dataloader):\n",
    "    outputs = torch.tensor(np.zeros(masks.shape, np.float32)).to(device=device)\n",
    "    x = criterion(outputs, masks)\n",
    "    print(x)\n",
    "    break"
   ]
  },
  {
   "cell_type": "code",
   "execution_count": null,
   "metadata": {},
   "outputs": [],
   "source": []
  }
 ],
 "metadata": {
  "kernelspec": {
   "display_name": "vesuvius-env",
   "language": "python",
   "name": "python3"
  },
  "language_info": {
   "codemirror_mode": {
    "name": "ipython",
    "version": 3
   },
   "file_extension": ".py",
   "mimetype": "text/x-python",
   "name": "python",
   "nbconvert_exporter": "python",
   "pygments_lexer": "ipython3",
   "version": "3.8.16"
  },
  "orig_nbformat": 4
 },
 "nbformat": 4,
 "nbformat_minor": 2
}
